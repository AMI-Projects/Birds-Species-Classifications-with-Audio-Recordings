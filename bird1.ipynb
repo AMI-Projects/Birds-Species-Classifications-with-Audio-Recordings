{
 "cells": [
  {
   "cell_type": "code",
   "execution_count": 1,
   "id": "dfc650f1-740a-4afc-b405-15010342789b",
   "metadata": {},
   "outputs": [
    {
     "name": "stdout",
     "output_type": "stream",
     "text": [
      "Requirement already satisfied: librosa in c:\\users\\91954\\anaconda3\\lib\\site-packages (0.10.2.post1)\n",
      "Requirement already satisfied: audioread>=2.1.9 in c:\\users\\91954\\anaconda3\\lib\\site-packages (from librosa) (3.0.1)\n",
      "Requirement already satisfied: numpy!=1.22.0,!=1.22.1,!=1.22.2,>=1.20.3 in c:\\users\\91954\\anaconda3\\lib\\site-packages (from librosa) (1.26.4)\n",
      "Requirement already satisfied: scipy>=1.2.0 in c:\\users\\91954\\anaconda3\\lib\\site-packages (from librosa) (1.11.4)\n",
      "Requirement already satisfied: scikit-learn>=0.20.0 in c:\\users\\91954\\anaconda3\\lib\\site-packages (from librosa) (1.2.2)\n",
      "Requirement already satisfied: joblib>=0.14 in c:\\users\\91954\\anaconda3\\lib\\site-packages (from librosa) (1.2.0)\n",
      "Requirement already satisfied: decorator>=4.3.0 in c:\\users\\91954\\anaconda3\\lib\\site-packages (from librosa) (5.1.1)\n",
      "Requirement already satisfied: numba>=0.51.0 in c:\\users\\91954\\anaconda3\\lib\\site-packages (from librosa) (0.59.0)\n",
      "Requirement already satisfied: soundfile>=0.12.1 in c:\\users\\91954\\anaconda3\\lib\\site-packages (from librosa) (0.12.1)\n",
      "Requirement already satisfied: pooch>=1.1 in c:\\users\\91954\\anaconda3\\lib\\site-packages (from librosa) (1.8.2)\n",
      "Requirement already satisfied: soxr>=0.3.2 in c:\\users\\91954\\anaconda3\\lib\\site-packages (from librosa) (0.3.7)\n",
      "Requirement already satisfied: typing-extensions>=4.1.1 in c:\\users\\91954\\anaconda3\\lib\\site-packages (from librosa) (4.9.0)\n",
      "Requirement already satisfied: lazy-loader>=0.1 in c:\\users\\91954\\anaconda3\\lib\\site-packages (from librosa) (0.3)\n",
      "Requirement already satisfied: msgpack>=1.0 in c:\\users\\91954\\anaconda3\\lib\\site-packages (from librosa) (1.0.3)\n",
      "Requirement already satisfied: llvmlite<0.43,>=0.42.0dev0 in c:\\users\\91954\\anaconda3\\lib\\site-packages (from numba>=0.51.0->librosa) (0.42.0)\n",
      "Requirement already satisfied: platformdirs>=2.5.0 in c:\\users\\91954\\anaconda3\\lib\\site-packages (from pooch>=1.1->librosa) (3.10.0)\n",
      "Requirement already satisfied: packaging>=20.0 in c:\\users\\91954\\anaconda3\\lib\\site-packages (from pooch>=1.1->librosa) (23.1)\n",
      "Requirement already satisfied: requests>=2.19.0 in c:\\users\\91954\\anaconda3\\lib\\site-packages (from pooch>=1.1->librosa) (2.31.0)\n",
      "Requirement already satisfied: threadpoolctl>=2.0.0 in c:\\users\\91954\\anaconda3\\lib\\site-packages (from scikit-learn>=0.20.0->librosa) (2.2.0)\n",
      "Requirement already satisfied: cffi>=1.0 in c:\\users\\91954\\anaconda3\\lib\\site-packages (from soundfile>=0.12.1->librosa) (1.16.0)\n",
      "Requirement already satisfied: pycparser in c:\\users\\91954\\anaconda3\\lib\\site-packages (from cffi>=1.0->soundfile>=0.12.1->librosa) (2.21)\n",
      "Requirement already satisfied: charset-normalizer<4,>=2 in c:\\users\\91954\\anaconda3\\lib\\site-packages (from requests>=2.19.0->pooch>=1.1->librosa) (2.0.4)\n",
      "Requirement already satisfied: idna<4,>=2.5 in c:\\users\\91954\\anaconda3\\lib\\site-packages (from requests>=2.19.0->pooch>=1.1->librosa) (3.4)\n",
      "Requirement already satisfied: urllib3<3,>=1.21.1 in c:\\users\\91954\\anaconda3\\lib\\site-packages (from requests>=2.19.0->pooch>=1.1->librosa) (2.0.7)\n",
      "Requirement already satisfied: certifi>=2017.4.17 in c:\\users\\91954\\anaconda3\\lib\\site-packages (from requests>=2.19.0->pooch>=1.1->librosa) (2024.2.2)\n",
      "Note: you may need to restart the kernel to use updated packages.\n"
     ]
    }
   ],
   "source": [
    "pip install librosa\n"
   ]
  },
  {
   "cell_type": "code",
   "execution_count": 2,
   "id": "a83f8548-e66d-490d-83a0-aa64b3c69e4c",
   "metadata": {},
   "outputs": [],
   "source": [
    "import numpy as np\n",
    "import pandas as pd\n",
    "import matplotlib.pyplot as plt\n",
    "import seaborn as sns\n",
    "import os\n",
    "import librosa\n",
    "import csv\n",
    "\n",
    "from sklearn.metrics import accuracy_score, f1_score, classification_report\n",
    "from sklearn.metrics import confusion_matrix, ConfusionMatrixDisplay\n",
    "from sklearn.metrics import precision_score, recall_score, precision_recall_curve"
   ]
  },
  {
   "cell_type": "markdown",
   "id": "7b255fe7-a8bd-4b07-b2c6-182fbc2590da",
   "metadata": {},
   "source": [
    "#load csv"
   ]
  },
  {
   "cell_type": "code",
   "execution_count": 3,
   "id": "05765d6f-fbc7-4681-baaf-4b9cc585bc8b",
   "metadata": {},
   "outputs": [
    {
     "data": {
      "text/html": [
       "<div>\n",
       "<style scoped>\n",
       "    .dataframe tbody tr th:only-of-type {\n",
       "        vertical-align: middle;\n",
       "    }\n",
       "\n",
       "    .dataframe tbody tr th {\n",
       "        vertical-align: top;\n",
       "    }\n",
       "\n",
       "    .dataframe thead th {\n",
       "        text-align: right;\n",
       "    }\n",
       "</style>\n",
       "<table border=\"1\" class=\"dataframe\">\n",
       "  <thead>\n",
       "    <tr style=\"text-align: right;\">\n",
       "      <th></th>\n",
       "      <th>File_Id</th>\n",
       "      <th>Genus</th>\n",
       "      <th>Species</th>\n",
       "      <th>English_Name</th>\n",
       "      <th>Country</th>\n",
       "      <th>Location</th>\n",
       "      <th>Latitude</th>\n",
       "      <th>Longitude</th>\n",
       "      <th>Altitude</th>\n",
       "      <th>Type</th>\n",
       "      <th>Filename</th>\n",
       "    </tr>\n",
       "  </thead>\n",
       "  <tbody>\n",
       "    <tr>\n",
       "      <th>0</th>\n",
       "      <td>363142</td>\n",
       "      <td>Melospiza</td>\n",
       "      <td>melodia</td>\n",
       "      <td>Song Sparrow</td>\n",
       "      <td>United States</td>\n",
       "      <td>Yampa River Botanic Park, Routt Co, Colorado</td>\n",
       "      <td>40.4725</td>\n",
       "      <td>-106.8311</td>\n",
       "      <td>2100</td>\n",
       "      <td>song</td>\n",
       "      <td>363142-0.wav</td>\n",
       "    </tr>\n",
       "    <tr>\n",
       "      <th>1</th>\n",
       "      <td>490351</td>\n",
       "      <td>Melospiza</td>\n",
       "      <td>melodia</td>\n",
       "      <td>Song Sparrow</td>\n",
       "      <td>United States</td>\n",
       "      <td>Hawk Rise Sanctuary (near  Linden), Union Coun...</td>\n",
       "      <td>40.6052</td>\n",
       "      <td>-74.2495</td>\n",
       "      <td>0</td>\n",
       "      <td>song</td>\n",
       "      <td>490351-10.wav</td>\n",
       "    </tr>\n",
       "    <tr>\n",
       "      <th>2</th>\n",
       "      <td>551290</td>\n",
       "      <td>Melospiza</td>\n",
       "      <td>melodia</td>\n",
       "      <td>Song Sparrow</td>\n",
       "      <td>United States</td>\n",
       "      <td>Rahway, Union County, New Jersey</td>\n",
       "      <td>40.6061</td>\n",
       "      <td>-74.2772</td>\n",
       "      <td>10</td>\n",
       "      <td>song</td>\n",
       "      <td>551290-10.wav</td>\n",
       "    </tr>\n",
       "  </tbody>\n",
       "</table>\n",
       "</div>"
      ],
      "text/plain": [
       "   File_Id      Genus  Species  English_Name        Country  \\\n",
       "0   363142  Melospiza  melodia  Song Sparrow  United States   \n",
       "1   490351  Melospiza  melodia  Song Sparrow  United States   \n",
       "2   551290  Melospiza  melodia  Song Sparrow  United States   \n",
       "\n",
       "                                            Location  Latitude  Longitude  \\\n",
       "0       Yampa River Botanic Park, Routt Co, Colorado   40.4725  -106.8311   \n",
       "1  Hawk Rise Sanctuary (near  Linden), Union Coun...   40.6052   -74.2495   \n",
       "2                   Rahway, Union County, New Jersey   40.6061   -74.2772   \n",
       "\n",
       "  Altitude  Type       Filename  \n",
       "0     2100  song   363142-0.wav  \n",
       "1        0  song  490351-10.wav  \n",
       "2       10  song  551290-10.wav  "
      ]
     },
     "execution_count": 3,
     "metadata": {},
     "output_type": "execute_result"
    }
   ],
   "source": [
    "metadata = pd.read_csv('/Users/91954/ my project/filtered_dataset.csv')  # Read csv file \n",
    "metadata.head(3)"
   ]
  },
  {
   "cell_type": "code",
   "execution_count": 4,
   "id": "40a29b2f-6c1e-4d01-ada2-dff082071a22",
   "metadata": {},
   "outputs": [
    {
     "data": {
      "text/plain": [
       "(2500, 11)"
      ]
     },
     "execution_count": 4,
     "metadata": {},
     "output_type": "execute_result"
    }
   ],
   "source": [
    "metadata.shape"
   ]
  },
  {
   "cell_type": "code",
   "execution_count": 5,
   "id": "16aee0cf-bc89-47fb-a77c-b3dcd268974d",
   "metadata": {},
   "outputs": [
    {
     "data": {
      "text/plain": [
       "Species\n",
       "melodia        500\n",
       "polyglottos    500\n",
       "cardinalis     500\n",
       "migratorius    500\n",
       "bewickii       500\n",
       "Name: count, dtype: int64"
      ]
     },
     "execution_count": 5,
     "metadata": {},
     "output_type": "execute_result"
    }
   ],
   "source": [
    "metadata['Species'].value_counts()"
   ]
  },
  {
   "cell_type": "code",
   "execution_count": 6,
   "id": "a8aa425c-4724-470a-94e9-ed185bc7c887",
   "metadata": {},
   "outputs": [
    {
     "data": {
      "text/plain": [
       "False"
      ]
     },
     "execution_count": 6,
     "metadata": {},
     "output_type": "execute_result"
    }
   ],
   "source": [
    "has_duplicates = metadata['Filename'].duplicated().any()\n",
    "has_duplicates"
   ]
  },
  {
   "cell_type": "code",
   "execution_count": 7,
   "id": "944ca5f3-89df-465c-8c10-babd66497108",
   "metadata": {},
   "outputs": [
    {
     "data": {
      "text/plain": [
       "File_Id          0\n",
       "Genus            0\n",
       "Species          0\n",
       "English_Name     0\n",
       "Country          0\n",
       "Location         0\n",
       "Latitude        38\n",
       "Longitude       38\n",
       "Altitude        14\n",
       "Type             0\n",
       "Filename         0\n",
       "dtype: int64"
      ]
     },
     "execution_count": 7,
     "metadata": {},
     "output_type": "execute_result"
    }
   ],
   "source": [
    "metadata.isnull().sum()"
   ]
  },
  {
   "cell_type": "markdown",
   "id": "258eddbe-bea4-411a-ab45-501973b80706",
   "metadata": {},
   "source": [
    "#Audio feature extraction"
   ]
  },
  {
   "cell_type": "code",
   "execution_count": 8,
   "id": "dfe8377b-919a-4de3-b760-bb52a36d834c",
   "metadata": {},
   "outputs": [
    {
     "data": {
      "text/plain": [
       "{'363142-0.wav': 'melodia',\n",
       " '490351-10.wav': 'melodia',\n",
       " '551290-10.wav': 'melodia',\n",
       " '549591-9.wav': 'melodia',\n",
       " '105818-11.wav': 'melodia',\n",
       " '366598-2.wav': 'melodia',\n",
       " '111653-9.wav': 'melodia',\n",
       " '288000-8.wav': 'melodia',\n",
       " '62782-2.wav': 'melodia',\n",
       " '111666-4.wav': 'melodia',\n",
       " '368065-5.wav': 'melodia',\n",
       " '111654-1.wav': 'melodia',\n",
       " '469877-5.wav': 'melodia',\n",
       " '128904-4.wav': 'melodia',\n",
       " '111653-6.wav': 'melodia',\n",
       " '393994-2.wav': 'melodia',\n",
       " '111671-1.wav': 'melodia',\n",
       " '269172-2.wav': 'melodia',\n",
       " '381570-5.wav': 'melodia',\n",
       " '142619-7.wav': 'melodia',\n",
       " '111644-7.wav': 'melodia',\n",
       " '246812-3.wav': 'melodia',\n",
       " '462899-1.wav': 'melodia',\n",
       " '111653-2.wav': 'melodia',\n",
       " '111654-11.wav': 'melodia',\n",
       " '105818-5.wav': 'melodia',\n",
       " '149420-9.wav': 'melodia',\n",
       " '425799-10.wav': 'melodia',\n",
       " '327795-8.wav': 'melodia',\n",
       " '551290-2.wav': 'melodia',\n",
       " '111654-0.wav': 'melodia',\n",
       " '408018-0.wav': 'melodia',\n",
       " '125723-5.wav': 'melodia',\n",
       " '189286-1.wav': 'melodia',\n",
       " '125718-4.wav': 'melodia',\n",
       " '306748-13.wav': 'melodia',\n",
       " '408571-10.wav': 'melodia',\n",
       " '408810-9.wav': 'melodia',\n",
       " '111649-9.wav': 'melodia',\n",
       " '469877-3.wav': 'melodia',\n",
       " '73428-7.wav': 'melodia',\n",
       " '18387-6.wav': 'melodia',\n",
       " '125706-1.wav': 'melodia',\n",
       " '483884-6.wav': 'melodia',\n",
       " '133566-1.wav': 'melodia',\n",
       " '125713-0.wav': 'melodia',\n",
       " '423504-6.wav': 'melodia',\n",
       " '561356-8.wav': 'melodia',\n",
       " '111651-5.wav': 'melodia',\n",
       " '181738-0.wav': 'melodia',\n",
       " '133568-5.wav': 'melodia',\n",
       " '425799-2.wav': 'melodia',\n",
       " '366597-2.wav': 'melodia',\n",
       " '128238-12.wav': 'melodia',\n",
       " '429249-0.wav': 'melodia',\n",
       " '426314-2.wav': 'melodia',\n",
       " '465907-5.wav': 'melodia',\n",
       " '480068-7.wav': 'melodia',\n",
       " '78060-6.wav': 'melodia',\n",
       " '388773-11.wav': 'melodia',\n",
       " '312736-8.wav': 'melodia',\n",
       " '408571-8.wav': 'melodia',\n",
       " '366598-6.wav': 'melodia',\n",
       " '493448-1.wav': 'melodia',\n",
       " '549591-4.wav': 'melodia',\n",
       " '103339-1.wav': 'melodia',\n",
       " '288255-15.wav': 'melodia',\n",
       " '500924-12.wav': 'melodia',\n",
       " '225619-0.wav': 'melodia',\n",
       " '551290-8.wav': 'melodia',\n",
       " '183355-0.wav': 'melodia',\n",
       " '500924-10.wav': 'melodia',\n",
       " '78059-4.wav': 'melodia',\n",
       " '111654-9.wav': 'melodia',\n",
       " '111666-0.wav': 'melodia',\n",
       " '142621-6.wav': 'melodia',\n",
       " '309650-7.wav': 'melodia',\n",
       " '288255-5.wav': 'melodia',\n",
       " '366597-1.wav': 'melodia',\n",
       " '18388-5.wav': 'melodia',\n",
       " '408018-6.wav': 'melodia',\n",
       " '393996-8.wav': 'melodia',\n",
       " '320469-8.wav': 'melodia',\n",
       " '408571-11.wav': 'melodia',\n",
       " '125706-2.wav': 'melodia',\n",
       " '128238-10.wav': 'melodia',\n",
       " '149420-1.wav': 'melodia',\n",
       " '125721-8.wav': 'melodia',\n",
       " '121280-4.wav': 'melodia',\n",
       " '175509-11.wav': 'melodia',\n",
       " '336819-2.wav': 'melodia',\n",
       " '134164-0.wav': 'melodia',\n",
       " '149420-2.wav': 'melodia',\n",
       " '133566-11.wav': 'melodia',\n",
       " '551290-3.wav': 'melodia',\n",
       " '481115-9.wav': 'melodia',\n",
       " '408571-5.wav': 'melodia',\n",
       " '558357-5.wav': 'melodia',\n",
       " '557836-0.wav': 'melodia',\n",
       " '420846-8.wav': 'melodia',\n",
       " '128238-11.wav': 'melodia',\n",
       " '320469-6.wav': 'melodia',\n",
       " '205806-4.wav': 'melodia',\n",
       " '493448-6.wav': 'melodia',\n",
       " '142621-1.wav': 'melodia',\n",
       " '142620-4.wav': 'melodia',\n",
       " '128904-13.wav': 'melodia',\n",
       " '375662-4.wav': 'melodia',\n",
       " '363142-9.wav': 'melodia',\n",
       " '129646-4.wav': 'melodia',\n",
       " '189286-0.wav': 'melodia',\n",
       " '320469-2.wav': 'melodia',\n",
       " '483881-0.wav': 'melodia',\n",
       " '133568-4.wav': 'melodia',\n",
       " '434169-9.wav': 'melodia',\n",
       " '129646-5.wav': 'melodia',\n",
       " '480068-0.wav': 'melodia',\n",
       " '288255-4.wav': 'melodia',\n",
       " '408571-0.wav': 'melodia',\n",
       " '320719-1.wav': 'melodia',\n",
       " '500924-4.wav': 'melodia',\n",
       " '111670-7.wav': 'melodia',\n",
       " '306748-7.wav': 'melodia',\n",
       " '483978-8.wav': 'melodia',\n",
       " '181738-8.wav': 'melodia',\n",
       " '282625-2.wav': 'melodia',\n",
       " '362469-2.wav': 'melodia',\n",
       " '375662-1.wav': 'melodia',\n",
       " '393994-6.wav': 'melodia',\n",
       " '189286-2.wav': 'melodia',\n",
       " '18387-1.wav': 'melodia',\n",
       " '408127-1.wav': 'melodia',\n",
       " '483978-2.wav': 'melodia',\n",
       " '121280-5.wav': 'melodia',\n",
       " '111670-2.wav': 'melodia',\n",
       " '205806-3.wav': 'melodia',\n",
       " '288000-7.wav': 'melodia',\n",
       " '366598-3.wav': 'melodia',\n",
       " '477785-7.wav': 'melodia',\n",
       " '193953-0.wav': 'melodia',\n",
       " '125713-10.wav': 'melodia',\n",
       " '179182-5.wav': 'melodia',\n",
       " '36619-6.wav': 'melodia',\n",
       " '111667-6.wav': 'melodia',\n",
       " '235955-12.wav': 'melodia',\n",
       " '78059-7.wav': 'melodia',\n",
       " '306748-1.wav': 'melodia',\n",
       " '282625-4.wav': 'melodia',\n",
       " '111671-14.wav': 'melodia',\n",
       " '423504-1.wav': 'melodia',\n",
       " '111669-2.wav': 'melodia',\n",
       " '549591-0.wav': 'melodia',\n",
       " '142620-8.wav': 'melodia',\n",
       " '103338-7.wav': 'melodia',\n",
       " '549591-2.wav': 'melodia',\n",
       " '483978-4.wav': 'melodia',\n",
       " '129646-0.wav': 'melodia',\n",
       " '235955-7.wav': 'melodia',\n",
       " '408810-10.wav': 'melodia',\n",
       " '102948-0.wav': 'melodia',\n",
       " '408811-6.wav': 'melodia',\n",
       " '336819-15.wav': 'melodia',\n",
       " '386586-4.wav': 'melodia',\n",
       " '103339-7.wav': 'melodia',\n",
       " '125714-5.wav': 'melodia',\n",
       " '195046-10.wav': 'melodia',\n",
       " '181738-5.wav': 'melodia',\n",
       " '408810-1.wav': 'melodia',\n",
       " '111667-4.wav': 'melodia',\n",
       " '408014-8.wav': 'melodia',\n",
       " '362469-6.wav': 'melodia',\n",
       " '111669-6.wav': 'melodia',\n",
       " '366598-1.wav': 'melodia',\n",
       " '309650-5.wav': 'melodia',\n",
       " '149420-6.wav': 'melodia',\n",
       " '128238-5.wav': 'melodia',\n",
       " '408126-5.wav': 'melodia',\n",
       " '465907-6.wav': 'melodia',\n",
       " '133568-2.wav': 'melodia',\n",
       " '480068-2.wav': 'melodia',\n",
       " '408811-5.wav': 'melodia',\n",
       " '183355-6.wav': 'melodia',\n",
       " '125713-6.wav': 'melodia',\n",
       " '408018-1.wav': 'melodia',\n",
       " '195046-7.wav': 'melodia',\n",
       " '362469-4.wav': 'melodia',\n",
       " '18387-0.wav': 'melodia',\n",
       " '362470-0.wav': 'melodia',\n",
       " '125717-13.wav': 'melodia',\n",
       " '465907-7.wav': 'melodia',\n",
       " '125711-8.wav': 'melodia',\n",
       " '121280-3.wav': 'melodia',\n",
       " '288255-11.wav': 'melodia',\n",
       " '246812-6.wav': 'melodia',\n",
       " '18387-3.wav': 'melodia',\n",
       " '565240-6.wav': 'melodia',\n",
       " '481115-1.wav': 'melodia',\n",
       " '111666-6.wav': 'melodia',\n",
       " '111668-1.wav': 'melodia',\n",
       " '111644-1.wav': 'melodia',\n",
       " '205806-15.wav': 'melodia',\n",
       " '325378-5.wav': 'melodia',\n",
       " '131646-5.wav': 'melodia',\n",
       " '142621-4.wav': 'melodia',\n",
       " '393996-2.wav': 'melodia',\n",
       " '408810-2.wav': 'melodia',\n",
       " '134164-2.wav': 'melodia',\n",
       " '78059-5.wav': 'melodia',\n",
       " '336819-5.wav': 'melodia',\n",
       " '386586-6.wav': 'melodia',\n",
       " '462899-4.wav': 'melodia',\n",
       " '134180-0.wav': 'melodia',\n",
       " '179182-3.wav': 'melodia',\n",
       " '483881-7.wav': 'melodia',\n",
       " '429249-8.wav': 'melodia',\n",
       " '309650-3.wav': 'melodia',\n",
       " '336819-3.wav': 'melodia',\n",
       " '388773-0.wav': 'melodia',\n",
       " '142619-0.wav': 'melodia',\n",
       " '142619-9.wav': 'melodia',\n",
       " '172442-1.wav': 'melodia',\n",
       " '481115-12.wav': 'melodia',\n",
       " '483220-6.wav': 'melodia',\n",
       " '195046-5.wav': 'melodia',\n",
       " '111669-1.wav': 'melodia',\n",
       " '376028-4.wav': 'melodia',\n",
       " '125713-13.wav': 'melodia',\n",
       " '111649-3.wav': 'melodia',\n",
       " '111671-5.wav': 'melodia',\n",
       " '142619-5.wav': 'melodia',\n",
       " '549591-11.wav': 'melodia',\n",
       " '381570-0.wav': 'melodia',\n",
       " '134180-8.wav': 'melodia',\n",
       " '393996-0.wav': 'melodia',\n",
       " '121281-1.wav': 'melodia',\n",
       " '18388-3.wav': 'melodia',\n",
       " '111669-3.wav': 'melodia',\n",
       " '490351-1.wav': 'melodia',\n",
       " '480032-7.wav': 'melodia',\n",
       " '408810-6.wav': 'melodia',\n",
       " '426314-6.wav': 'melodia',\n",
       " '480224-4.wav': 'melodia',\n",
       " '125718-5.wav': 'melodia',\n",
       " '103339-6.wav': 'melodia',\n",
       " '462899-8.wav': 'melodia',\n",
       " '288000-3.wav': 'melodia',\n",
       " '557836-1.wav': 'melodia',\n",
       " '481115-10.wav': 'melodia',\n",
       " '336819-10.wav': 'melodia',\n",
       " '381568-2.wav': 'melodia',\n",
       " '426314-1.wav': 'melodia',\n",
       " '133566-0.wav': 'melodia',\n",
       " '358837-2.wav': 'melodia',\n",
       " '469877-6.wav': 'melodia',\n",
       " '111668-2.wav': 'melodia',\n",
       " '103449-5.wav': 'melodia',\n",
       " '386586-5.wav': 'melodia',\n",
       " '408018-5.wav': 'melodia',\n",
       " '133568-10.wav': 'melodia',\n",
       " '36619-2.wav': 'melodia',\n",
       " '105818-0.wav': 'melodia',\n",
       " '129646-1.wav': 'melodia',\n",
       " '393994-12.wav': 'melodia',\n",
       " '205810-6.wav': 'melodia',\n",
       " '111287-1.wav': 'melodia',\n",
       " '175509-9.wav': 'melodia',\n",
       " '125717-9.wav': 'melodia',\n",
       " '306748-11.wav': 'melodia',\n",
       " '125714-1.wav': 'melodia',\n",
       " '480032-0.wav': 'melodia',\n",
       " '142620-1.wav': 'melodia',\n",
       " '125706-6.wav': 'melodia',\n",
       " '420846-4.wav': 'melodia',\n",
       " '388773-6.wav': 'melodia',\n",
       " '129646-2.wav': 'melodia',\n",
       " '490353-4.wav': 'melodia',\n",
       " '111667-8.wav': 'melodia',\n",
       " '111655-1.wav': 'melodia',\n",
       " '134164-8.wav': 'melodia',\n",
       " '358837-0.wav': 'melodia',\n",
       " '195046-9.wav': 'melodia',\n",
       " '235955-5.wav': 'melodia',\n",
       " '78060-3.wav': 'melodia',\n",
       " '133566-9.wav': 'melodia',\n",
       " '423504-2.wav': 'melodia',\n",
       " '549591-5.wav': 'melodia',\n",
       " '393994-10.wav': 'melodia',\n",
       " '103338-1.wav': 'melodia',\n",
       " '175509-4.wav': 'melodia',\n",
       " '179182-6.wav': 'melodia',\n",
       " '18387-10.wav': 'melodia',\n",
       " '225619-5.wav': 'melodia',\n",
       " '111671-4.wav': 'melodia',\n",
       " '125711-12.wav': 'melodia',\n",
       " '363141-4.wav': 'melodia',\n",
       " '175509-3.wav': 'melodia',\n",
       " '111644-11.wav': 'melodia',\n",
       " '388773-2.wav': 'melodia',\n",
       " '493448-3.wav': 'melodia',\n",
       " '483881-1.wav': 'melodia',\n",
       " '193953-8.wav': 'melodia',\n",
       " '375662-6.wav': 'melodia',\n",
       " '111670-1.wav': 'melodia',\n",
       " '246812-2.wav': 'melodia',\n",
       " '425799-11.wav': 'melodia',\n",
       " '288000-5.wav': 'melodia',\n",
       " '282625-7.wav': 'melodia',\n",
       " '121280-8.wav': 'melodia',\n",
       " '142620-5.wav': 'melodia',\n",
       " '483220-2.wav': 'melodia',\n",
       " '408810-4.wav': 'melodia',\n",
       " '103449-9.wav': 'melodia',\n",
       " '483220-7.wav': 'melodia',\n",
       " '282512-5.wav': 'melodia',\n",
       " '336819-11.wav': 'melodia',\n",
       " '125718-2.wav': 'melodia',\n",
       " '483220-5.wav': 'melodia',\n",
       " '366597-0.wav': 'melodia',\n",
       " '125713-12.wav': 'melodia',\n",
       " '434169-0.wav': 'melodia',\n",
       " '179182-4.wav': 'melodia',\n",
       " '420846-2.wav': 'melodia',\n",
       " '408018-4.wav': 'melodia',\n",
       " '62782-3.wav': 'melodia',\n",
       " '312736-6.wav': 'melodia',\n",
       " '143923-5.wav': 'melodia',\n",
       " '363141-9.wav': 'melodia',\n",
       " '235955-4.wav': 'melodia',\n",
       " '193953-1.wav': 'melodia',\n",
       " '128904-0.wav': 'melodia',\n",
       " '132874-3.wav': 'melodia',\n",
       " '282625-6.wav': 'melodia',\n",
       " '235955-11.wav': 'melodia',\n",
       " '111666-7.wav': 'melodia',\n",
       " '312736-1.wav': 'melodia',\n",
       " '205810-7.wav': 'melodia',\n",
       " '408126-3.wav': 'melodia',\n",
       " '179182-2.wav': 'melodia',\n",
       " '185605-6.wav': 'melodia',\n",
       " '125713-14.wav': 'melodia',\n",
       " '111667-9.wav': 'melodia',\n",
       " '557836-8.wav': 'melodia',\n",
       " '558357-8.wav': 'melodia',\n",
       " '426314-0.wav': 'melodia',\n",
       " '131646-2.wav': 'melodia',\n",
       " '483220-0.wav': 'melodia',\n",
       " '408571-12.wav': 'melodia',\n",
       " '111655-11.wav': 'melodia',\n",
       " '144116-1.wav': 'melodia',\n",
       " '393996-10.wav': 'melodia',\n",
       " '111645-0.wav': 'melodia',\n",
       " '18387-2.wav': 'melodia',\n",
       " '363142-4.wav': 'melodia',\n",
       " '565242-4.wav': 'melodia',\n",
       " '483978-6.wav': 'melodia',\n",
       " '111671-7.wav': 'melodia',\n",
       " '62782-9.wav': 'melodia',\n",
       " '18387-4.wav': 'melodia',\n",
       " '121280-9.wav': 'melodia',\n",
       " '111670-12.wav': 'melodia',\n",
       " '205806-2.wav': 'melodia',\n",
       " '408127-3.wav': 'melodia',\n",
       " '111668-0.wav': 'melodia',\n",
       " '408126-1.wav': 'melodia',\n",
       " '306748-2.wav': 'melodia',\n",
       " '366598-4.wav': 'melodia',\n",
       " '565242-6.wav': 'melodia',\n",
       " '490351-9.wav': 'melodia',\n",
       " '128238-4.wav': 'melodia',\n",
       " '111644-4.wav': 'melodia',\n",
       " '312736-7.wav': 'melodia',\n",
       " '225619-1.wav': 'melodia',\n",
       " '125718-0.wav': 'melodia',\n",
       " '143923-1.wav': 'melodia',\n",
       " '132874-1.wav': 'melodia',\n",
       " '386586-0.wav': 'melodia',\n",
       " '434169-4.wav': 'melodia',\n",
       " '105818-9.wav': 'melodia',\n",
       " '125714-3.wav': 'melodia',\n",
       " '175509-12.wav': 'melodia',\n",
       " '306748-5.wav': 'melodia',\n",
       " '500924-0.wav': 'melodia',\n",
       " '500924-1.wav': 'melodia',\n",
       " '306748-14.wav': 'melodia',\n",
       " '465907-8.wav': 'melodia',\n",
       " '565240-8.wav': 'melodia',\n",
       " '235955-9.wav': 'melodia',\n",
       " '181738-6.wav': 'melodia',\n",
       " '408571-1.wav': 'melodia',\n",
       " '125714-10.wav': 'melodia',\n",
       " '62782-0.wav': 'melodia',\n",
       " '111644-12.wav': 'melodia',\n",
       " '76471-2.wav': 'melodia',\n",
       " '111645-1.wav': 'melodia',\n",
       " '78060-5.wav': 'melodia',\n",
       " '103339-5.wav': 'melodia',\n",
       " '111644-6.wav': 'melodia',\n",
       " '144116-5.wav': 'melodia',\n",
       " '103338-9.wav': 'melodia',\n",
       " '376028-9.wav': 'melodia',\n",
       " '125721-7.wav': 'melodia',\n",
       " '111649-0.wav': 'melodia',\n",
       " '420846-1.wav': 'melodia',\n",
       " '235955-0.wav': 'melodia',\n",
       " '393994-11.wav': 'melodia',\n",
       " '429249-4.wav': 'melodia',\n",
       " '143923-4.wav': 'melodia',\n",
       " '565242-2.wav': 'melodia',\n",
       " '565240-0.wav': 'melodia',\n",
       " '327795-4.wav': 'melodia',\n",
       " '408127-0.wav': 'melodia',\n",
       " '111650-3.wav': 'melodia',\n",
       " '111650-6.wav': 'melodia',\n",
       " '309650-4.wav': 'melodia',\n",
       " '195046-4.wav': 'melodia',\n",
       " '121281-0.wav': 'melodia',\n",
       " '465907-12.wav': 'melodia',\n",
       " '73428-8.wav': 'melodia',\n",
       " '558357-3.wav': 'melodia',\n",
       " '73428-0.wav': 'melodia',\n",
       " '133568-1.wav': 'melodia',\n",
       " '363142-5.wav': 'melodia',\n",
       " '128904-6.wav': 'melodia',\n",
       " '312736-4.wav': 'melodia',\n",
       " '235955-1.wav': 'melodia',\n",
       " '18388-2.wav': 'melodia',\n",
       " '288000-9.wav': 'melodia',\n",
       " '393994-1.wav': 'melodia',\n",
       " '111646-2.wav': 'melodia',\n",
       " '181738-4.wav': 'melodia',\n",
       " '425799-6.wav': 'melodia',\n",
       " '408810-3.wav': 'melodia',\n",
       " '558357-1.wav': 'melodia',\n",
       " '408014-0.wav': 'melodia',\n",
       " '269172-6.wav': 'melodia',\n",
       " '551290-6.wav': 'melodia',\n",
       " '408126-0.wav': 'melodia',\n",
       " '483978-1.wav': 'melodia',\n",
       " '125723-7.wav': 'melodia',\n",
       " '549591-1.wav': 'melodia',\n",
       " '288255-10.wav': 'melodia',\n",
       " '465907-10.wav': 'melodia',\n",
       " '483884-2.wav': 'melodia',\n",
       " '246812-9.wav': 'melodia',\n",
       " '111646-10.wav': 'melodia',\n",
       " '288255-8.wav': 'melodia',\n",
       " '500924-6.wav': 'melodia',\n",
       " '375662-0.wav': 'melodia',\n",
       " '134164-7.wav': 'melodia',\n",
       " '111666-3.wav': 'melodia',\n",
       " '306748-6.wav': 'melodia',\n",
       " '366597-4.wav': 'melodia',\n",
       " '325378-2.wav': 'melodia',\n",
       " '111671-12.wav': 'melodia',\n",
       " '111651-6.wav': 'melodia',\n",
       " '111650-0.wav': 'melodia',\n",
       " '246812-8.wav': 'melodia',\n",
       " '320719-0.wav': 'melodia',\n",
       " '306748-4.wav': 'melodia',\n",
       " '408126-8.wav': 'melodia',\n",
       " '111644-0.wav': 'melodia',\n",
       " '111289-2.wav': 'melodia',\n",
       " '408127-5.wav': 'melodia',\n",
       " '193953-7.wav': 'melodia',\n",
       " '125713-2.wav': 'melodia',\n",
       " '288000-2.wav': 'melodia',\n",
       " '125713-15.wav': 'melodia',\n",
       " '111651-9.wav': 'melodia',\n",
       " '125711-6.wav': 'melodia',\n",
       " '282512-8.wav': 'melodia',\n",
       " '549591-6.wav': 'melodia',\n",
       " '366597-5.wav': 'melodia',\n",
       " '128904-7.wav': 'melodia',\n",
       " '490353-12.wav': 'melodia',\n",
       " '121281-2.wav': 'melodia',\n",
       " '336819-1.wav': 'melodia',\n",
       " '393996-9.wav': 'melodia',\n",
       " '469877-1.wav': 'melodia',\n",
       " '408811-0.wav': 'melodia',\n",
       " '125711-5.wav': 'melodia',\n",
       " '336819-6.wav': 'melodia',\n",
       " '393994-8.wav': 'melodia',\n",
       " '73428-4.wav': 'melodia',\n",
       " '282512-12.wav': 'melodia',\n",
       " '125713-7.wav': 'melodia',\n",
       " '73428-9.wav': 'melodia',\n",
       " '327795-5.wav': 'melodia',\n",
       " '125706-7.wav': 'melodia',\n",
       " '111287-4.wav': 'melodia',\n",
       " '480032-5.wav': 'melodia',\n",
       " '78059-1.wav': 'melodia',\n",
       " '320719-8.wav': 'melodia',\n",
       " '483978-5.wav': 'melodia',\n",
       " '388773-5.wav': 'melodia',\n",
       " '362470-6.wav': 'melodia',\n",
       " '429249-6.wav': 'melodia',\n",
       " '76471-9.wav': 'melodia',\n",
       " '144116-3.wav': 'melodia',\n",
       " '195046-6.wav': 'melodia',\n",
       " '465907-1.wav': 'melodia',\n",
       " '192423-4.wav': 'polyglottos',\n",
       " '54725-12.wav': 'polyglottos',\n",
       " '34576-7.wav': 'polyglottos',\n",
       " '542156-7.wav': 'polyglottos',\n",
       " '138494-12.wav': 'polyglottos',\n",
       " '321945-3.wav': 'polyglottos',\n",
       " '58179-2.wav': 'polyglottos',\n",
       " '58179-7.wav': 'polyglottos',\n",
       " '321943-5.wav': 'polyglottos',\n",
       " '394057-4.wav': 'polyglottos',\n",
       " '477371-3.wav': 'polyglottos',\n",
       " '321897-15.wav': 'polyglottos',\n",
       " '130970-9.wav': 'polyglottos',\n",
       " '321788-9.wav': 'polyglottos',\n",
       " '469896-2.wav': 'polyglottos',\n",
       " '503419-1.wav': 'polyglottos',\n",
       " '433083-11.wav': 'polyglottos',\n",
       " '351831-6.wav': 'polyglottos',\n",
       " '13610-6.wav': 'polyglottos',\n",
       " '138494-3.wav': 'polyglottos',\n",
       " '54725-5.wav': 'polyglottos',\n",
       " '469351-12.wav': 'polyglottos',\n",
       " '319143-2.wav': 'polyglottos',\n",
       " '499260-14.wav': 'polyglottos',\n",
       " '319143-3.wav': 'polyglottos',\n",
       " '18483-5.wav': 'polyglottos',\n",
       " '179351-1.wav': 'polyglottos',\n",
       " '351831-8.wav': 'polyglottos',\n",
       " '534181-15.wav': 'polyglottos',\n",
       " '13609-2.wav': 'polyglottos',\n",
       " '321914-11.wav': 'polyglottos',\n",
       " '552447-3.wav': 'polyglottos',\n",
       " '14213-13.wav': 'polyglottos',\n",
       " '13609-8.wav': 'polyglottos',\n",
       " '321923-11.wav': 'polyglottos',\n",
       " '559014-8.wav': 'polyglottos',\n",
       " '394057-12.wav': 'polyglottos',\n",
       " '179353-0.wav': 'polyglottos',\n",
       " '423438-12.wav': 'polyglottos',\n",
       " '351830-5.wav': 'polyglottos',\n",
       " '179351-12.wav': 'polyglottos',\n",
       " '406012-0.wav': 'polyglottos',\n",
       " '54019-11.wav': 'polyglottos',\n",
       " '321941-9.wav': 'polyglottos',\n",
       " '321941-0.wav': 'polyglottos',\n",
       " '552450-8.wav': 'polyglottos',\n",
       " '416049-6.wav': 'polyglottos',\n",
       " '334320-2.wav': 'polyglottos',\n",
       " '545900-4.wav': 'polyglottos',\n",
       " '179351-7.wav': 'polyglottos',\n",
       " '538537-13.wav': 'polyglottos',\n",
       " '172647-8.wav': 'polyglottos',\n",
       " '469351-6.wav': 'polyglottos',\n",
       " '534181-4.wav': 'polyglottos',\n",
       " '489315-6.wav': 'polyglottos',\n",
       " '541426-10.wav': 'polyglottos',\n",
       " '334320-4.wav': 'polyglottos',\n",
       " '21735-11.wav': 'polyglottos',\n",
       " '552450-13.wav': 'polyglottos',\n",
       " '130970-1.wav': 'polyglottos',\n",
       " '321931-10.wav': 'polyglottos',\n",
       " '552447-1.wav': 'polyglottos',\n",
       " '321906-8.wav': 'polyglottos',\n",
       " '321786-2.wav': 'polyglottos',\n",
       " '54019-18.wav': 'polyglottos',\n",
       " '14212-5.wav': 'polyglottos',\n",
       " '21735-6.wav': 'polyglottos',\n",
       " '317019-3.wav': 'polyglottos',\n",
       " '321931-4.wav': 'polyglottos',\n",
       " '321786-10.wav': 'polyglottos',\n",
       " '321941-10.wav': 'polyglottos',\n",
       " '534181-2.wav': 'polyglottos',\n",
       " '541426-6.wav': 'polyglottos',\n",
       " '321932-2.wav': 'polyglottos',\n",
       " '413128-4.wav': 'polyglottos',\n",
       " '54725-1.wav': 'polyglottos',\n",
       " '321923-10.wav': 'polyglottos',\n",
       " '357943-3.wav': 'polyglottos',\n",
       " '321941-3.wav': 'polyglottos',\n",
       " '541426-4.wav': 'polyglottos',\n",
       " '351830-1.wav': 'polyglottos',\n",
       " '321788-3.wav': 'polyglottos',\n",
       " '321931-9.wav': 'polyglottos',\n",
       " '542156-2.wav': 'polyglottos',\n",
       " '423438-0.wav': 'polyglottos',\n",
       " '54018-3.wav': 'polyglottos',\n",
       " '376174-13.wav': 'polyglottos',\n",
       " '54018-9.wav': 'polyglottos',\n",
       " '54019-2.wav': 'polyglottos',\n",
       " '317019-10.wav': 'polyglottos',\n",
       " '534181-1.wav': 'polyglottos',\n",
       " '58179-11.wav': 'polyglottos',\n",
       " '406012-11.wav': 'polyglottos',\n",
       " '423438-9.wav': 'polyglottos',\n",
       " '503419-5.wav': 'polyglottos',\n",
       " '321905-10.wav': 'polyglottos',\n",
       " '321897-14.wav': 'polyglottos',\n",
       " '18483-10.wav': 'polyglottos',\n",
       " '357031-2.wav': 'polyglottos',\n",
       " '18483-9.wav': 'polyglottos',\n",
       " '541496-9.wav': 'polyglottos',\n",
       " '321902-5.wav': 'polyglottos',\n",
       " '321897-11.wav': 'polyglottos',\n",
       " '172494-15.wav': 'polyglottos',\n",
       " '58179-3.wav': 'polyglottos',\n",
       " '552450-1.wav': 'polyglottos',\n",
       " '351830-9.wav': 'polyglottos',\n",
       " '34576-2.wav': 'polyglottos',\n",
       " '232710-6.wav': 'polyglottos',\n",
       " '470300-1.wav': 'polyglottos',\n",
       " '172648-0.wav': 'polyglottos',\n",
       " '317019-9.wav': 'polyglottos',\n",
       " '13609-3.wav': 'polyglottos',\n",
       " '406012-2.wav': 'polyglottos',\n",
       " '406012-10.wav': 'polyglottos',\n",
       " '552450-10.wav': 'polyglottos',\n",
       " '13609-7.wav': 'polyglottos',\n",
       " '416049-2.wav': 'polyglottos',\n",
       " '321943-2.wav': 'polyglottos',\n",
       " '477371-16.wav': 'polyglottos',\n",
       " '317019-2.wav': 'polyglottos',\n",
       " '489315-8.wav': 'polyglottos',\n",
       " '537579-1.wav': 'polyglottos',\n",
       " '321897-2.wav': 'polyglottos',\n",
       " '269503-9.wav': 'polyglottos',\n",
       " '321906-4.wav': 'polyglottos',\n",
       " '139965-11.wav': 'polyglottos',\n",
       " '489315-7.wav': 'polyglottos',\n",
       " '170052-13.wav': 'polyglottos',\n",
       " '351830-14.wav': 'polyglottos',\n",
       " '351830-6.wav': 'polyglottos',\n",
       " '321789-9.wav': 'polyglottos',\n",
       " '192423-10.wav': 'polyglottos',\n",
       " '499260-13.wav': 'polyglottos',\n",
       " '170052-12.wav': 'polyglottos',\n",
       " '321786-6.wav': 'polyglottos',\n",
       " '192423-0.wav': 'polyglottos',\n",
       " '321897-5.wav': 'polyglottos',\n",
       " '170052-16.wav': 'polyglottos',\n",
       " '416049-4.wav': 'polyglottos',\n",
       " '477371-1.wav': 'polyglottos',\n",
       " '364588-18.wav': 'polyglottos',\n",
       " '321905-4.wav': 'polyglottos',\n",
       " '534181-10.wav': 'polyglottos',\n",
       " '357031-6.wav': 'polyglottos',\n",
       " '170052-11.wav': 'polyglottos',\n",
       " '321941-7.wav': 'polyglottos',\n",
       " '13609-13.wav': 'polyglottos',\n",
       " '321905-7.wav': 'polyglottos',\n",
       " '541496-4.wav': 'polyglottos',\n",
       " '139965-7.wav': 'polyglottos',\n",
       " '557029-1.wav': 'polyglottos',\n",
       " '469896-3.wav': 'polyglottos',\n",
       " '179353-6.wav': 'polyglottos',\n",
       " '413128-3.wav': 'polyglottos',\n",
       " '179353-2.wav': 'polyglottos',\n",
       " '57040-4.wav': 'polyglottos',\n",
       " '321931-5.wav': 'polyglottos',\n",
       " '184933-0.wav': 'polyglottos',\n",
       " '351831-4.wav': 'polyglottos',\n",
       " '542156-9.wav': 'polyglottos',\n",
       " '321914-3.wav': 'polyglottos',\n",
       " '499260-7.wav': 'polyglottos',\n",
       " '470300-8.wav': 'polyglottos',\n",
       " '321927-9.wav': 'polyglottos',\n",
       " '14213-3.wav': 'polyglottos',\n",
       " '351830-3.wav': 'polyglottos',\n",
       " '321914-9.wav': 'polyglottos',\n",
       " '321945-8.wav': 'polyglottos',\n",
       " '357943-4.wav': 'polyglottos',\n",
       " '351831-10.wav': 'polyglottos',\n",
       " '179353-3.wav': 'polyglottos',\n",
       " '321788-11.wav': 'polyglottos',\n",
       " '321943-9.wav': 'polyglottos',\n",
       " '563125-10.wav': 'polyglottos',\n",
       " '321897-10.wav': 'polyglottos',\n",
       " '364588-17.wav': 'polyglottos',\n",
       " '138494-11.wav': 'polyglottos',\n",
       " '552447-4.wav': 'polyglottos',\n",
       " '321899-6.wav': 'polyglottos',\n",
       " '351829-0.wav': 'polyglottos',\n",
       " '138494-15.wav': 'polyglottos',\n",
       " '413128-1.wav': 'polyglottos',\n",
       " '184933-8.wav': 'polyglottos',\n",
       " '321902-6.wav': 'polyglottos',\n",
       " '321788-1.wav': 'polyglottos',\n",
       " '433083-3.wav': 'polyglottos',\n",
       " '54725-15.wav': 'polyglottos',\n",
       " '321905-6.wav': 'polyglottos',\n",
       " '406012-6.wav': 'polyglottos',\n",
       " '321786-4.wav': 'polyglottos',\n",
       " '18484-10.wav': 'polyglottos',\n",
       " '394057-2.wav': 'polyglottos',\n",
       " '321931-3.wav': 'polyglottos',\n",
       " '18484-2.wav': 'polyglottos',\n",
       " '321897-4.wav': 'polyglottos',\n",
       " '54725-10.wav': 'polyglottos',\n",
       " '232710-1.wav': 'polyglottos',\n",
       " '139965-3.wav': 'polyglottos',\n",
       " '170052-5.wav': 'polyglottos',\n",
       " '172494-2.wav': 'polyglottos',\n",
       " '321906-5.wav': 'polyglottos',\n",
       " '172647-11.wav': 'polyglottos',\n",
       " '376174-1.wav': 'polyglottos',\n",
       " '172494-10.wav': 'polyglottos',\n",
       " '321942-0.wav': 'polyglottos',\n",
       " '321942-8.wav': 'polyglottos',\n",
       " '542156-4.wav': 'polyglottos',\n",
       " '312453-3.wav': 'polyglottos',\n",
       " '172494-11.wav': 'polyglottos',\n",
       " '376174-2.wav': 'polyglottos',\n",
       " '538122-0.wav': 'polyglottos',\n",
       " '172647-10.wav': 'polyglottos',\n",
       " '184933-14.wav': 'polyglottos',\n",
       " '321941-4.wav': 'polyglottos',\n",
       " '321894-8.wav': 'polyglottos',\n",
       " '18484-4.wav': 'polyglottos',\n",
       " '321923-9.wav': 'polyglottos',\n",
       " '343928-5.wav': 'polyglottos',\n",
       " '172648-3.wav': 'polyglottos',\n",
       " '184933-6.wav': 'polyglottos',\n",
       " '545900-10.wav': 'polyglottos',\n",
       " '138494-0.wav': 'polyglottos',\n",
       " '538122-11.wav': 'polyglottos',\n",
       " '321931-0.wav': 'polyglottos',\n",
       " '321899-9.wav': 'polyglottos',\n",
       " '170052-3.wav': 'polyglottos',\n",
       " '552447-8.wav': 'polyglottos',\n",
       " '537579-2.wav': 'polyglottos',\n",
       " '321941-14.wav': 'polyglottos',\n",
       " '321913-0.wav': 'polyglottos',\n",
       " '14213-0.wav': 'polyglottos',\n",
       " '537579-0.wav': 'polyglottos',\n",
       " '351830-4.wav': 'polyglottos',\n",
       " '184933-13.wav': 'polyglottos',\n",
       " '477371-7.wav': 'polyglottos',\n",
       " '58179-1.wav': 'polyglottos',\n",
       " '321902-12.wav': 'polyglottos',\n",
       " '57040-1.wav': 'polyglottos',\n",
       " '13609-11.wav': 'polyglottos',\n",
       " '54018-5.wav': 'polyglottos',\n",
       " '433083-12.wav': 'polyglottos',\n",
       " '364588-1.wav': 'polyglottos',\n",
       " '552450-0.wav': 'polyglottos',\n",
       " '321932-7.wav': 'polyglottos',\n",
       " '321786-5.wav': 'polyglottos',\n",
       " '172494-12.wav': 'polyglottos',\n",
       " '538122-8.wav': 'polyglottos',\n",
       " '21735-1.wav': 'polyglottos',\n",
       " '545900-12.wav': 'polyglottos',\n",
       " '321913-9.wav': 'polyglottos',\n",
       " '503419-15.wav': 'polyglottos',\n",
       " '321899-3.wav': 'polyglottos',\n",
       " '503419-9.wav': 'polyglottos',\n",
       " '34576-3.wav': 'polyglottos',\n",
       " '469896-6.wav': 'polyglottos',\n",
       " '319143-4.wav': 'polyglottos',\n",
       " '21733-8.wav': 'polyglottos',\n",
       " '312453-7.wav': 'polyglottos',\n",
       " '364588-8.wav': 'polyglottos',\n",
       " '351830-13.wav': 'polyglottos',\n",
       " '321923-4.wav': 'polyglottos',\n",
       " '21733-6.wav': 'polyglottos',\n",
       " '321906-11.wav': 'polyglottos',\n",
       " '54725-2.wav': 'polyglottos',\n",
       " '172648-14.wav': 'polyglottos',\n",
       " '557029-9.wav': 'polyglottos',\n",
       " '557029-0.wav': 'polyglottos',\n",
       " '469896-1.wav': 'polyglottos',\n",
       " '321932-11.wav': 'polyglottos',\n",
       " '538122-9.wav': 'polyglottos',\n",
       " '54018-13.wav': 'polyglottos',\n",
       " '321927-11.wav': 'polyglottos',\n",
       " '563125-3.wav': 'polyglottos',\n",
       " '321788-13.wav': 'polyglottos',\n",
       " '321914-2.wav': 'polyglottos',\n",
       " '21732-8.wav': 'polyglottos',\n",
       " '364588-12.wav': 'polyglottos',\n",
       " '192423-9.wav': 'polyglottos',\n",
       " '21735-9.wav': 'polyglottos',\n",
       " '351830-8.wav': 'polyglottos',\n",
       " '179351-9.wav': 'polyglottos',\n",
       " '13610-7.wav': 'polyglottos',\n",
       " '541496-8.wav': 'polyglottos',\n",
       " '131455-10.wav': 'polyglottos',\n",
       " '321945-2.wav': 'polyglottos',\n",
       " '351829-13.wav': 'polyglottos',\n",
       " '232710-4.wav': 'polyglottos',\n",
       " '423438-13.wav': 'polyglottos',\n",
       " '376174-10.wav': 'polyglottos',\n",
       " '416049-0.wav': 'polyglottos',\n",
       " '477371-10.wav': 'polyglottos',\n",
       " '413128-14.wav': 'polyglottos',\n",
       " '321942-7.wav': 'polyglottos',\n",
       " '321897-9.wav': 'polyglottos',\n",
       " '364588-0.wav': 'polyglottos',\n",
       " '545900-0.wav': 'polyglottos',\n",
       " '545900-1.wav': 'polyglottos',\n",
       " '406012-12.wav': 'polyglottos',\n",
       " '489315-9.wav': 'polyglottos',\n",
       " '563125-12.wav': 'polyglottos',\n",
       " '321945-1.wav': 'polyglottos',\n",
       " '312453-5.wav': 'polyglottos',\n",
       " '416049-7.wav': 'polyglottos',\n",
       " '62791-16.wav': 'polyglottos',\n",
       " '319143-10.wav': 'polyglottos',\n",
       " '21735-7.wav': 'polyglottos',\n",
       " '18483-6.wav': 'polyglottos',\n",
       " '54019-8.wav': 'polyglottos',\n",
       " '172494-8.wav': 'polyglottos',\n",
       " '406012-7.wav': 'polyglottos',\n",
       " '321894-2.wav': 'polyglottos',\n",
       " '351830-10.wav': 'polyglottos',\n",
       " '18484-6.wav': 'polyglottos',\n",
       " '321931-6.wav': 'polyglottos',\n",
       " '172648-7.wav': 'polyglottos',\n",
       " '433083-10.wav': 'polyglottos',\n",
       " '54725-4.wav': 'polyglottos',\n",
       " '470300-5.wav': 'polyglottos',\n",
       " '54725-11.wav': 'polyglottos',\n",
       " '563125-2.wav': 'polyglottos',\n",
       " '563125-6.wav': 'polyglottos',\n",
       " '413128-6.wav': 'polyglottos',\n",
       " '54019-1.wav': 'polyglottos',\n",
       " '321943-6.wav': 'polyglottos',\n",
       " '343928-11.wav': 'polyglottos',\n",
       " '489315-13.wav': 'polyglottos',\n",
       " '321945-13.wav': 'polyglottos',\n",
       " '559014-12.wav': 'polyglottos',\n",
       " '14213-15.wav': 'polyglottos',\n",
       " '269503-12.wav': 'polyglottos',\n",
       " '343928-15.wav': 'polyglottos',\n",
       " '58179-10.wav': 'polyglottos',\n",
       " '351829-4.wav': 'polyglottos',\n",
       " '321923-1.wav': 'polyglottos',\n",
       " '321786-0.wav': 'polyglottos',\n",
       " '321788-14.wav': 'polyglottos',\n",
       " '54018-11.wav': 'polyglottos',\n",
       " '321913-1.wav': 'polyglottos',\n",
       " '469351-2.wav': 'polyglottos',\n",
       " '423438-14.wav': 'polyglottos',\n",
       " '559014-10.wav': 'polyglottos',\n",
       " '406012-15.wav': 'polyglottos',\n",
       " '170052-7.wav': 'polyglottos',\n",
       " '552450-6.wav': 'polyglottos',\n",
       " '413128-13.wav': 'polyglottos',\n",
       " '541426-3.wav': 'polyglottos',\n",
       " '552447-0.wav': 'polyglottos',\n",
       " '184933-1.wav': 'polyglottos',\n",
       " '489315-11.wav': 'polyglottos',\n",
       " '538537-2.wav': 'polyglottos',\n",
       " '192423-8.wav': 'polyglottos',\n",
       " '357943-14.wav': 'polyglottos',\n",
       " '321927-6.wav': 'polyglottos',\n",
       " '545900-6.wav': 'polyglottos',\n",
       " '18484-1.wav': 'polyglottos',\n",
       " '319143-1.wav': 'polyglottos',\n",
       " '321906-3.wav': 'polyglottos',\n",
       " '351831-0.wav': 'polyglottos',\n",
       " '21733-3.wav': 'polyglottos',\n",
       " '312453-14.wav': 'polyglottos',\n",
       " '21732-1.wav': 'polyglottos',\n",
       " '321931-1.wav': 'polyglottos',\n",
       " '351831-5.wav': 'polyglottos',\n",
       " '57040-13.wav': 'polyglottos',\n",
       " '54019-0.wav': 'polyglottos',\n",
       " '170052-6.wav': 'polyglottos',\n",
       " '413128-11.wav': 'polyglottos',\n",
       " '321788-12.wav': 'polyglottos',\n",
       " '192423-11.wav': 'polyglottos',\n",
       " '172647-3.wav': 'polyglottos',\n",
       " '269503-13.wav': 'polyglottos',\n",
       " '130970-4.wav': 'polyglottos',\n",
       " '321932-0.wav': 'polyglottos',\n",
       " '552447-5.wav': 'polyglottos',\n",
       " '321788-2.wav': 'polyglottos',\n",
       " '541496-0.wav': 'polyglottos',\n",
       " '179351-0.wav': 'polyglottos',\n",
       " '357943-2.wav': 'polyglottos',\n",
       " '394057-11.wav': 'polyglottos',\n",
       " '170052-15.wav': 'polyglottos',\n",
       " '423438-3.wav': 'polyglottos',\n",
       " '351829-3.wav': 'polyglottos',\n",
       " '376174-11.wav': 'polyglottos',\n",
       " '321932-1.wav': 'polyglottos',\n",
       " '321788-10.wav': 'polyglottos',\n",
       " '343928-14.wav': 'polyglottos',\n",
       " '54725-3.wav': 'polyglottos',\n",
       " '503419-13.wav': 'polyglottos',\n",
       " '321905-5.wav': 'polyglottos',\n",
       " '21732-14.wav': 'polyglottos',\n",
       " '541426-7.wav': 'polyglottos',\n",
       " '364588-11.wav': 'polyglottos',\n",
       " '470300-7.wav': 'polyglottos',\n",
       " '321894-15.wav': 'polyglottos',\n",
       " '321906-7.wav': 'polyglottos',\n",
       " '321923-7.wav': 'polyglottos',\n",
       " '170052-8.wav': 'polyglottos',\n",
       " '321945-9.wav': 'polyglottos',\n",
       " '469351-7.wav': 'polyglottos',\n",
       " '54725-17.wav': 'polyglottos',\n",
       " '321905-12.wav': 'polyglottos',\n",
       " '406012-18.wav': 'polyglottos',\n",
       " '319143-15.wav': 'polyglottos',\n",
       " '321932-5.wav': 'polyglottos',\n",
       " '351829-7.wav': 'polyglottos',\n",
       " '503419-14.wav': 'polyglottos',\n",
       " '538122-10.wav': 'polyglottos',\n",
       " '14212-2.wav': 'polyglottos',\n",
       " '21733-2.wav': 'polyglottos',\n",
       " '54019-6.wav': 'polyglottos',\n",
       " '542156-1.wav': 'polyglottos',\n",
       " '334320-8.wav': 'polyglottos',\n",
       " '269503-6.wav': 'polyglottos',\n",
       " '172647-1.wav': 'polyglottos',\n",
       " '559014-14.wav': 'polyglottos',\n",
       " '351830-11.wav': 'polyglottos',\n",
       " '534181-12.wav': 'polyglottos',\n",
       " '469896-7.wav': 'polyglottos',\n",
       " '413128-2.wav': 'polyglottos',\n",
       " '394057-6.wav': 'polyglottos',\n",
       " '406012-13.wav': 'polyglottos',\n",
       " '423438-8.wav': 'polyglottos',\n",
       " '54725-0.wav': 'polyglottos',\n",
       " '179351-6.wav': 'polyglottos',\n",
       " '343928-3.wav': 'polyglottos',\n",
       " '54019-17.wav': 'polyglottos',\n",
       " '21735-15.wav': 'polyglottos',\n",
       " '321914-1.wav': 'polyglottos',\n",
       " '321897-0.wav': 'polyglottos',\n",
       " '232710-9.wav': 'polyglottos',\n",
       " '269503-15.wav': 'polyglottos',\n",
       " '321897-7.wav': 'polyglottos',\n",
       " '552447-10.wav': 'polyglottos',\n",
       " '321906-12.wav': 'polyglottos',\n",
       " '14213-8.wav': 'polyglottos',\n",
       " '321927-0.wav': 'polyglottos',\n",
       " '21733-0.wav': 'polyglottos',\n",
       " '13610-4.wav': 'polyglottos',\n",
       " '416049-11.wav': 'polyglottos',\n",
       " '469351-0.wav': 'polyglottos',\n",
       " '138494-16.wav': 'polyglottos',\n",
       " '170052-14.wav': 'polyglottos',\n",
       " '413128-7.wav': 'polyglottos',\n",
       " '13610-1.wav': 'polyglottos',\n",
       " '477371-4.wav': 'polyglottos',\n",
       " '357943-12.wav': 'polyglottos',\n",
       " '470300-3.wav': 'polyglottos',\n",
       " '179351-5.wav': 'polyglottos',\n",
       " '13609-9.wav': 'polyglottos',\n",
       " '192423-5.wav': 'polyglottos',\n",
       " '413128-0.wav': 'polyglottos',\n",
       " '21732-12.wav': 'polyglottos',\n",
       " '321945-12.wav': 'polyglottos',\n",
       " '312453-0.wav': 'polyglottos',\n",
       " '139965-1.wav': 'polyglottos',\n",
       " '18483-12.wav': 'polyglottos',\n",
       " '469896-8.wav': 'polyglottos',\n",
       " '21735-13.wav': 'polyglottos',\n",
       " '321923-8.wav': 'polyglottos',\n",
       " '545900-5.wav': 'polyglottos',\n",
       " '541496-2.wav': 'polyglottos',\n",
       " '321941-15.wav': 'polyglottos',\n",
       " '557029-3.wav': 'polyglottos',\n",
       " '14212-4.wav': 'polyglottos',\n",
       " '321927-5.wav': 'polyglottos',\n",
       " '343928-0.wav': 'polyglottos',\n",
       " '351829-10.wav': 'polyglottos',\n",
       " '469351-5.wav': 'polyglottos',\n",
       " '489315-2.wav': 'polyglottos',\n",
       " '321931-14.wav': 'polyglottos',\n",
       " '13609-1.wav': 'polyglottos',\n",
       " '321927-14.wav': 'polyglottos',\n",
       " '364588-3.wav': 'polyglottos',\n",
       " '321897-1.wav': 'polyglottos',\n",
       " '545900-11.wav': 'polyglottos',\n",
       " '542156-5.wav': 'polyglottos',\n",
       " '321941-8.wav': 'polyglottos',\n",
       " '542156-3.wav': 'polyglottos',\n",
       " '343928-10.wav': 'polyglottos',\n",
       " '18483-11.wav': 'polyglottos',\n",
       " '321913-4.wav': 'polyglottos',\n",
       " '232710-3.wav': 'polyglottos',\n",
       " '321786-3.wav': 'polyglottos',\n",
       " '351829-1.wav': 'polyglottos',\n",
       " '321932-8.wav': 'polyglottos',\n",
       " '321932-4.wav': 'polyglottos',\n",
       " '321906-10.wav': 'polyglottos',\n",
       " '394057-10.wav': 'polyglottos',\n",
       " '499260-11.wav': 'polyglottos',\n",
       " '334320-1.wav': 'polyglottos',\n",
       " '319143-9.wav': 'polyglottos',\n",
       " '563125-5.wav': 'polyglottos',\n",
       " '413128-5.wav': 'polyglottos',\n",
       " '357031-14.wav': 'polyglottos',\n",
       " '54018-6.wav': 'polyglottos',\n",
       " '170052-9.wav': 'polyglottos',\n",
       " '541426-1.wav': 'polyglottos',\n",
       " '541496-5.wav': 'polyglottos',\n",
       " '321789-1.wav': 'polyglottos',\n",
       " ...}"
      ]
     },
     "execution_count": 8,
     "metadata": {},
     "output_type": "execute_result"
    }
   ],
   "source": [
    "# Create the dictionary\n",
    "name_dict = dict(zip(metadata['Filename'], metadata['Species']))\n",
    "name_dict"
   ]
  },
  {
   "cell_type": "code",
   "execution_count": 9,
   "id": "5b83d178-b5f1-4a30-bdce-d44c07c23066",
   "metadata": {},
   "outputs": [],
   "source": [
    "# Define the directory containing audio files\n",
    "audio_dir = '/Users/91954/ my project/wavfiles'\n",
    "\n",
    "# os.listdir() to get filenames\n",
    "filenames = os.listdir(audio_dir)\n",
    "\n",
    "# Create audio paths by combining directory and filenames\n",
    "audio_paths = [os.path.join(audio_dir, filename) for filename in filenames]"
   ]
  },
  {
   "cell_type": "markdown",
   "id": "b8402a9d-3f21-493f-a9a2-d8d17af05692",
   "metadata": {},
   "source": [
    "#Feature extraction"
   ]
  },
  {
   "cell_type": "code",
   "execution_count": 10,
   "id": "4acbe83f-b9c4-40ef-925e-6df0d7156183",
   "metadata": {},
   "outputs": [],
   "source": [
    "mel, mfcc = [], []\n",
    "spectral_centroid, rms, bandwidth, chromagram = [], [], [], []\n",
    "filename, labels = [], []\n",
    "\n",
    "for path in audio_paths:\n",
    "    file = os.path.basename(path)  # Extract filename from UR\n",
    "    \n",
    "    if file in name_dict:\n",
    "        # Load audio file\n",
    "        y, sr = librosa.load(path)\n",
    "        filename.append(file)\n",
    "        labels.append(name_dict[file])\n",
    "        \n",
    "        # Extract MFCCs\n",
    "        mfccs = librosa.feature.mfcc(y=y, sr=sr, n_mels=20, n_mfcc=130)\n",
    "        mfcc.append(mfccs.T)\n",
    "    \n",
    "        # Extract mel-spectrogram\n",
    "        melspectrogram = librosa.feature.melspectrogram(y=y, sr=sr, n_mels=20, htk=True, fmin=1400)\n",
    "        S = librosa.power_to_db(melspectrogram)\n",
    "        mel.append(S.T)\n",
    "\n",
    "        # spectral centroid\n",
    "        spectral_centroid.append((librosa.feature.spectral_centroid(y=y, sr=sr)).T)\n",
    "        \n",
    "        # bandwidth\n",
    "        bandwidth.append((librosa.feature.spectral_bandwidth(y=y, sr=sr)).T)\n",
    "        \n",
    "        #Extract root mean square(rms)for analyzing the energy content of audio signals\n",
    "        rms.append((librosa.feature.rms(y=y)).T)  \n",
    "        "
   ]
  },
  {
   "cell_type": "code",
   "execution_count": 11,
   "id": "cd21e4cb-c545-4af8-a6d6-ae540fca6b79",
   "metadata": {},
   "outputs": [
    {
     "data": {
      "text/html": [
       "<div>\n",
       "<style scoped>\n",
       "    .dataframe tbody tr th:only-of-type {\n",
       "        vertical-align: middle;\n",
       "    }\n",
       "\n",
       "    .dataframe tbody tr th {\n",
       "        vertical-align: top;\n",
       "    }\n",
       "\n",
       "    .dataframe thead th {\n",
       "        text-align: right;\n",
       "    }\n",
       "</style>\n",
       "<table border=\"1\" class=\"dataframe\">\n",
       "  <thead>\n",
       "    <tr style=\"text-align: right;\">\n",
       "      <th></th>\n",
       "      <th>Species</th>\n",
       "      <th>Filename</th>\n",
       "    </tr>\n",
       "  </thead>\n",
       "  <tbody>\n",
       "    <tr>\n",
       "      <th>0</th>\n",
       "      <td>melodia</td>\n",
       "      <td>102948-0.wav</td>\n",
       "    </tr>\n",
       "    <tr>\n",
       "      <th>1</th>\n",
       "      <td>migratorius</td>\n",
       "      <td>103059-0.wav</td>\n",
       "    </tr>\n",
       "    <tr>\n",
       "      <th>2</th>\n",
       "      <td>migratorius</td>\n",
       "      <td>103059-10.wav</td>\n",
       "    </tr>\n",
       "    <tr>\n",
       "      <th>3</th>\n",
       "      <td>migratorius</td>\n",
       "      <td>103059-11.wav</td>\n",
       "    </tr>\n",
       "    <tr>\n",
       "      <th>4</th>\n",
       "      <td>migratorius</td>\n",
       "      <td>103059-12.wav</td>\n",
       "    </tr>\n",
       "  </tbody>\n",
       "</table>\n",
       "</div>"
      ],
      "text/plain": [
       "       Species       Filename\n",
       "0      melodia   102948-0.wav\n",
       "1  migratorius   103059-0.wav\n",
       "2  migratorius  103059-10.wav\n",
       "3  migratorius  103059-11.wav\n",
       "4  migratorius  103059-12.wav"
      ]
     },
     "execution_count": 11,
     "metadata": {},
     "output_type": "execute_result"
    }
   ],
   "source": [
    "# Convert audio_labels to dataframe\n",
    "audio_labels = pd.DataFrame(labels, columns=['Species'])\n",
    "audio_labels['Filename'] = filename\n",
    "audio_labels.head(5)"
   ]
  },
  {
   "cell_type": "code",
   "execution_count": 12,
   "id": "16c435eb-f97b-4bf4-815f-9378e806993e",
   "metadata": {},
   "outputs": [
    {
     "name": "stdout",
     "output_type": "stream",
     "text": [
      "Shape of mfcc : (2500, 130, 20)\n",
      "Shape of mel-spectrogram : (2500, 130, 20)\n",
      "Shape of spectral_centroid : (2500, 130, 1)\n",
      "Shape of rms : (2500, 130, 1)\n",
      "Shape of bandwidth : (2500, 130, 1)\n",
      "Shape of chromagram : (0,)\n"
     ]
    }
   ],
   "source": [
    "print('Shape of mfcc :', np.array(mfcc).shape)\n",
    "print('Shape of mel-spectrogram :', np.array(mel).shape)\n",
    "print('Shape of spectral_centroid :', np.array(spectral_centroid).shape)\n",
    "print('Shape of rms :', np.array(rms).shape)\n",
    "print('Shape of bandwidth :', np.array(bandwidth).shape)\n",
    "print('Shape of chromagram :', np.array(chromagram).shape)"
   ]
  },
  {
   "cell_type": "markdown",
   "id": "2d0a8a6c-1508-40e2-9288-8df6defe0078",
   "metadata": {},
   "source": [
    "#Scale data"
   ]
  },
  {
   "cell_type": "code",
   "execution_count": 13,
   "id": "f9866cc0-aaa6-4cbb-af46-ff960744450d",
   "metadata": {},
   "outputs": [],
   "source": [
    "from sklearn.preprocessing import StandardScaler"
   ]
  },
  {
   "cell_type": "code",
   "execution_count": 14,
   "id": "a4cf54e8-dae3-4dce-8736-680b75c8986d",
   "metadata": {},
   "outputs": [],
   "source": [
    "# Create a StandardScaler object\n",
    "scaler = StandardScaler()\n",
    "\n",
    "def scale(data):\n",
    "\n",
    "    if len(data.shape) == 2:\n",
    "         \n",
    "        scaler.fit(data)  # Fit the scaler\n",
    "        data = scaler.transform(data)  # Scale data using the fitted scaler\n",
    "        return data, scaler.mean_, scaler.scale_\n",
    "\n",
    "    elif len(data.shape) == 3:\n",
    "\n",
    "        batch, n_row, n_col = data.shape\n",
    "        data_reshape = data.reshape(-1, n_row * n_col)  # flatten the np arrays to 1D\n",
    "        \n",
    "        scaler.fit(data_reshape)      # Fit the scaler\n",
    "        data_scaled = scaler.transform(data_reshape)  # Scale data using the fitted scaler\n",
    "        \n",
    "        data = data_scaled.reshape(-1, n_row, n_col)  # reshape the data to the original shape\n",
    "        return data, scaler.mean_, scaler.scale_\n",
    "    \n",
    "    else:\n",
    "        raise ValueError(\"Input array must be 2D or 3D.\")\n",
    "\n",
    "\n",
    "\n",
    "def processed(data, mean=False):\n",
    "    \n",
    "    data = np.array(data)\n",
    "    \n",
    "    if mean:\n",
    "        data = np.mean(data, axis=1)\n",
    "        return scale(data)\n",
    "    else:\n",
    "        return scale(data)\n",
    "  "
   ]
  },
  {
   "cell_type": "markdown",
   "id": "a78d6621-a15b-4e38-945d-e23696fe607d",
   "metadata": {},
   "source": [
    "#Encode data"
   ]
  },
  {
   "cell_type": "code",
   "execution_count": 15,
   "id": "a213d6a3-2080-4f49-9c1e-20a4ec8e6994",
   "metadata": {},
   "outputs": [],
   "source": [
    "from sklearn.preprocessing import LabelEncoder"
   ]
  },
  {
   "cell_type": "code",
   "execution_count": 16,
   "id": "043fe5dd-ac75-4ad5-b10f-e79c20292187",
   "metadata": {},
   "outputs": [
    {
     "data": {
      "text/html": [
       "<div>\n",
       "<style scoped>\n",
       "    .dataframe tbody tr th:only-of-type {\n",
       "        vertical-align: middle;\n",
       "    }\n",
       "\n",
       "    .dataframe tbody tr th {\n",
       "        vertical-align: top;\n",
       "    }\n",
       "\n",
       "    .dataframe thead th {\n",
       "        text-align: right;\n",
       "    }\n",
       "</style>\n",
       "<table border=\"1\" class=\"dataframe\">\n",
       "  <thead>\n",
       "    <tr style=\"text-align: right;\">\n",
       "      <th></th>\n",
       "      <th>Species</th>\n",
       "      <th>Filename</th>\n",
       "      <th>Encoded</th>\n",
       "    </tr>\n",
       "  </thead>\n",
       "  <tbody>\n",
       "    <tr>\n",
       "      <th>0</th>\n",
       "      <td>melodia</td>\n",
       "      <td>102948-0.wav</td>\n",
       "      <td>2</td>\n",
       "    </tr>\n",
       "    <tr>\n",
       "      <th>1</th>\n",
       "      <td>migratorius</td>\n",
       "      <td>103059-0.wav</td>\n",
       "      <td>3</td>\n",
       "    </tr>\n",
       "    <tr>\n",
       "      <th>2</th>\n",
       "      <td>migratorius</td>\n",
       "      <td>103059-10.wav</td>\n",
       "      <td>3</td>\n",
       "    </tr>\n",
       "    <tr>\n",
       "      <th>3</th>\n",
       "      <td>migratorius</td>\n",
       "      <td>103059-11.wav</td>\n",
       "      <td>3</td>\n",
       "    </tr>\n",
       "    <tr>\n",
       "      <th>4</th>\n",
       "      <td>migratorius</td>\n",
       "      <td>103059-12.wav</td>\n",
       "      <td>3</td>\n",
       "    </tr>\n",
       "  </tbody>\n",
       "</table>\n",
       "</div>"
      ],
      "text/plain": [
       "       Species       Filename  Encoded\n",
       "0      melodia   102948-0.wav        2\n",
       "1  migratorius   103059-0.wav        3\n",
       "2  migratorius  103059-10.wav        3\n",
       "3  migratorius  103059-11.wav        3\n",
       "4  migratorius  103059-12.wav        3"
      ]
     },
     "execution_count": 16,
     "metadata": {},
     "output_type": "execute_result"
    }
   ],
   "source": [
    "#Label Encoder\n",
    "le = LabelEncoder()\n",
    "\n",
    "audio_labels['Encoded'] = le.fit_transform(labels)\n",
    "audio_labels.head(5)"
   ]
  },
  {
   "cell_type": "code",
   "execution_count": 17,
   "id": "50cab45e-b00b-4e58-b920-ca844a7b1516",
   "metadata": {},
   "outputs": [
    {
     "data": {
      "text/plain": [
       "{2: 'melodia',\n",
       " 3: 'migratorius',\n",
       " 0: 'bewickii',\n",
       " 1: 'cardinalis',\n",
       " 4: 'polyglottos'}"
      ]
     },
     "execution_count": 17,
     "metadata": {},
     "output_type": "execute_result"
    }
   ],
   "source": [
    "# Create a dictionary with encoded labels as key and species as values\n",
    "class_label = dict(zip(audio_labels['Encoded'],audio_labels['Species']))\n",
    "class_label"
   ]
  },
  {
   "cell_type": "code",
   "execution_count": 18,
   "id": "0d49a285-3d66-4b49-b67b-fca35f55ef7e",
   "metadata": {},
   "outputs": [
    {
     "data": {
      "text/plain": [
       "['bewickii', 'cardinalis', 'melodia', 'migratorius', 'polyglottos']"
      ]
     },
     "execution_count": 18,
     "metadata": {},
     "output_type": "execute_result"
    }
   ],
   "source": [
    "# Sort the dictionary by key in ascending order\n",
    "sorted_class_labels = dict(sorted(class_label.items()))\n",
    "\n",
    "# Extract a list of values (bird species)\n",
    "class_labels = list(sorted_class_labels.values())\n",
    "\n",
    "class_labels"
   ]
  },
  {
   "cell_type": "markdown",
   "id": "588280d4-23c1-49e3-873a-c2ae5ea95c79",
   "metadata": {},
   "source": [
    "#Split data"
   ]
  },
  {
   "cell_type": "markdown",
   "id": "22a0de41-c4ae-4c80-bdc7-a0d694b644c1",
   "metadata": {},
   "source": [
    "mfcc, bandwidth, spectral centroid, rms are calculated"
   ]
  },
  {
   "cell_type": "code",
   "execution_count": 19,
   "id": "e8d1097b-b9c7-4b72-bd10-9dee7653d08f",
   "metadata": {},
   "outputs": [],
   "source": [
    "from sklearn.model_selection import train_test_split"
   ]
  },
  {
   "cell_type": "code",
   "execution_count": 20,
   "id": "859aeb5d-7e93-4289-b6b9-39e80edd1bf6",
   "metadata": {},
   "outputs": [],
   "source": [
    "# Combine all features\n",
    "all_features = np.concatenate((np.array(mfcc), np.array(bandwidth), np.array(spectral_centroid), np.array(rms)),axis=2)"
   ]
  },
  {
   "cell_type": "code",
   "execution_count": 21,
   "id": "d6c48c47-fc86-4486-b528-8adcd3a618fd",
   "metadata": {},
   "outputs": [],
   "source": [
    "# calculate scalar mean and stantard deviation\n",
    "data , mean, std = processed(all_features, mean=True)"
   ]
  },
  {
   "cell_type": "code",
   "execution_count": 22,
   "id": "3b0bc77b-dbf1-4513-b409-7bbc79857e96",
   "metadata": {},
   "outputs": [],
   "source": [
    "# Split the dataset ito features and target variable\n",
    "X = data\n",
    "Y = audio_labels['Encoded']\n",
    "\n",
    "# Split the dataset ito train and test\n",
    "X_train, X_test, Y_train, Y_test = train_test_split(X, Y, test_size=0.1, random_state=42, stratify=Y)"
   ]
  },
  {
   "cell_type": "markdown",
   "id": "f0572927-3709-450c-ad77-192e20506dfa",
   "metadata": {},
   "source": [
    "#Cross validation"
   ]
  },
  {
   "cell_type": "code",
   "execution_count": 23,
   "id": "a7afaedf-2b5d-4fec-992a-5a19833bb04c",
   "metadata": {},
   "outputs": [],
   "source": [
    "from sklearn.model_selection import StratifiedKFold, cross_val_score"
   ]
  },
  {
   "cell_type": "code",
   "execution_count": 24,
   "id": "d1fc2fc8-fb6b-4799-94dc-4a3f2c3dd57e",
   "metadata": {},
   "outputs": [],
   "source": [
    "# Stratified KFold ensures classes are proportionally distributed in each fold\n",
    "cv = StratifiedKFold(n_splits=5, shuffle=True, random_state=42)"
   ]
  },
  {
   "cell_type": "markdown",
   "id": "6f0069a6-8d7a-4e59-8cbb-e751464e0284",
   "metadata": {},
   "source": [
    "#KNN classifier"
   ]
  },
  {
   "cell_type": "code",
   "execution_count": 25,
   "id": "496bf3e7-1db1-481f-8d6d-c353d110a93f",
   "metadata": {},
   "outputs": [],
   "source": [
    "from sklearn.neighbors import KNeighborsClassifier"
   ]
  },
  {
   "cell_type": "code",
   "execution_count": 26,
   "id": "9b703150-34e9-44be-84cd-61032a9644d8",
   "metadata": {},
   "outputs": [],
   "source": [
    "def KNN_classifier(n):\n",
    "    \n",
    "    # Create the KNN model with n_neighbors (number of neighbors) set to 3\n",
    "    knn = KNeighborsClassifier(n_neighbors=n)\n",
    "\n",
    "    # Train the model on the training data\n",
    "    knn.fit(X_train, Y_train)\n",
    "\n",
    "    # Make predictions on the testing data\n",
    "    pred_knn = knn.predict(X_test)\n",
    "\n",
    "    return pred_knn"
   ]
  },
  {
   "cell_type": "code",
   "execution_count": 27,
   "id": "8de0d1eb-c3a4-46fe-bf9e-a2fed97d30d1",
   "metadata": {},
   "outputs": [],
   "source": [
    "val_accuracy = []\n",
    "neighbors = []\n",
    "\n",
    "for neighbor in range(1,10):\n",
    "    \n",
    "    pred_knn = KNN_classifier(neighbor)  # Make predictions\n",
    "    \n",
    "    val_acc = accuracy_score(Y_test,pred_knn)  # Evaluate model accuracy\n",
    "    val_accuracy.append(val_acc)\n",
    "    neighbors.append(neighbor)"
   ]
  },
  {
   "cell_type": "code",
   "execution_count": 28,
   "id": "3e21da0b-ba0d-4e2f-9d5f-a2882d6fb45f",
   "metadata": {},
   "outputs": [
    {
     "data": {
      "text/plain": [
       "<Axes: xlabel='Neighbors', ylabel='Values'>"
      ]
     },
     "execution_count": 28,
     "metadata": {},
     "output_type": "execute_result"
    },
    {
     "data": {
      "image/png": "[encoded data removed]",
      "text/plain": [
       "<Figure size 1500x500 with 1 Axes>"
      ]
     },
     "metadata": {},
     "output_type": "display_data"
    }
   ],
   "source": [
    "# Tuning n_neighbors for the best accuracy\n",
    "Tuning_neighbors = {'Accuracy':val_accuracy, 'Neighbors':neighbors}\n",
    "Tuning_neighbors_df = pd.DataFrame.from_dict(Tuning_neighbors)\n",
    "\n",
    "plot_df = Tuning_neighbors_df.melt('Neighbors', var_name='Metrics', value_name='Values')\n",
    "fig, ax = plt.subplots(figsize=(15,5))\n",
    "sns.pointplot(x='Neighbors', y='Values', hue='Metrics', data=plot_df, ax=ax)"
   ]
  },
  {
   "cell_type": "markdown",
   "id": "f193de0e-4d2f-4a00-87f9-0c8aa465995b",
   "metadata": {},
   "source": [
    "Cross validation"
   ]
  },
  {
   "cell_type": "code",
   "execution_count": 29,
   "id": "81d01d29-5d2a-4e8f-9cc1-048873fbbe83",
   "metadata": {},
   "outputs": [],
   "source": [
    "knn = KNeighborsClassifier(n_neighbors=3)"
   ]
  },
  {
   "cell_type": "code",
   "execution_count": 30,
   "id": "4f3d2d5a-a6a4-4846-bec0-07f99985a3b1",
   "metadata": {},
   "outputs": [
    {
     "name": "stdout",
     "output_type": "stream",
     "text": [
      "cv scores : [0.80222222 0.81555556 0.84888889 0.80222222 0.79111111]\n",
      "Average accuracy : 0.812\n"
     ]
    }
   ],
   "source": [
    "knn_cv_scores = cross_val_score(knn, X_train, Y_train, cv=cv)\n",
    "print('cv scores :', knn_cv_scores)\n",
    "print('Average accuracy :', np.mean(knn_cv_scores))"
   ]
  },
  {
   "cell_type": "markdown",
   "id": "f8eec8eb-c07c-4bc1-afc9-44f56a661666",
   "metadata": {},
   "source": [
    "#Evaluation"
   ]
  },
  {
   "cell_type": "code",
   "execution_count": 31,
   "id": "704d41ff-bb69-4aca-9cb2-bbd5367276e3",
   "metadata": {},
   "outputs": [
    {
     "name": "stdout",
     "output_type": "stream",
     "text": [
      "Accuracy : 0.8600\n",
      "F1-score : 0.8585\n",
      "Precision : 0.8670\n",
      "Recall : 0.86\n"
     ]
    }
   ],
   "source": [
    "knn_pred = KNN_classifier(3)\n",
    "\n",
    "# Evaluate model accuracy\n",
    "knn_accuracy = accuracy_score(Y_test, knn_pred)\n",
    "print(f'Accuracy : {knn_accuracy:.4f}')\n",
    "\n",
    "# Calculate f1 score precision and recall\n",
    "knn_f1 = f1_score(Y_test, knn_pred, average='macro')\n",
    "knn_precision = precision_score(Y_test, knn_pred, average='weighted')\n",
    "knn_recall = recall_score(Y_test, knn_pred, average='weighted')\n",
    "\n",
    "# Print the results\n",
    "print(f'F1-score : {knn_f1:.4f}')\n",
    "print(f'Precision : {knn_precision:.4f}')\n",
    "print(f'Recall : {knn_recall}')"
   ]
  },
  {
   "cell_type": "markdown",
   "id": "8836afad-c433-45d3-bc5a-2ffb8b7e4fae",
   "metadata": {},
   "source": [
    "#Classification report"
   ]
  },
  {
   "cell_type": "code",
   "execution_count": 32,
   "id": "ae142d16-132d-4cc9-835e-597fec44beb3",
   "metadata": {},
   "outputs": [
    {
     "name": "stdout",
     "output_type": "stream",
     "text": [
      "              precision    recall  f1-score   support\n",
      "\n",
      "    bewickii       0.80      0.98      0.88        50\n",
      "  cardinalis       0.82      0.84      0.83        50\n",
      "     melodia       0.93      0.84      0.88        50\n",
      " migratorius       0.85      0.92      0.88        50\n",
      " polyglottos       0.92      0.72      0.81        50\n",
      "\n",
      "    accuracy                           0.86       250\n",
      "   macro avg       0.87      0.86      0.86       250\n",
      "weighted avg       0.87      0.86      0.86       250\n",
      "\n"
     ]
    }
   ],
   "source": [
    "print(classification_report(Y_test, knn_pred, target_names=class_labels))"
   ]
  },
  {
   "cell_type": "markdown",
   "id": "2be0d58f-55e7-43d8-a26e-52825eb30db2",
   "metadata": {},
   "source": [
    "#Confusion matrix"
   ]
  },
  {
   "cell_type": "code",
   "execution_count": 33,
   "id": "17f22a43-88fb-4271-bdae-ae2452a6d407",
   "metadata": {},
   "outputs": [],
   "source": [
    "def confusion_matrix_plot(cm, model):\n",
    "    disp = ConfusionMatrixDisplay(confusion_matrix=cm, display_labels=class_labels)\n",
    "    disp.plot(cmap=plt.cm.Purples)\n",
    "    plt.xticks(rotation=90)  \n",
    "    plt.title(f'Confusion Matrix ({model})')\n",
    "    plt.show()"
   ]
  },
  {
   "cell_type": "code",
   "execution_count": 34,
   "id": "8edfa693-e7d4-4f2d-ba41-4ce2455ce442",
   "metadata": {},
   "outputs": [],
   "source": [
    "# Generate confusion matrix\n",
    "knn_confusion_matrix = confusion_matrix(Y_test, knn_pred)"
   ]
  },
  {
   "cell_type": "code",
   "execution_count": 35,
   "id": "4d6e3eff-8e46-4836-b63b-890752885ec0",
   "metadata": {},
   "outputs": [
    {
     "data": {
      "image/png": "[encoded data removed]",
      "text/plain": [
       "<Figure size 640x480 with 2 Axes>"
      ]
     },
     "metadata": {},
     "output_type": "display_data"
    }
   ],
   "source": [
    "confusion_matrix_plot(knn_confusion_matrix, 'KNN')"
   ]
  },
  {
   "cell_type": "markdown",
   "id": "16db469f-4abd-4c0f-ba26-bec89c5f0164",
   "metadata": {},
   "source": [
    "#Precision Recall curve"
   ]
  },
  {
   "cell_type": "code",
   "execution_count": 36,
   "id": "c95dd98c-eb70-438f-a5de-ab57ee4792a0",
   "metadata": {},
   "outputs": [],
   "source": [
    "def Precision_Recall_Curve(y_pred, model):\n",
    "    \n",
    "    prc_data = {}\n",
    "    \n",
    "    for i, class_label in enumerate(class_labels):\n",
    "        precision, recall, thresholds = precision_recall_curve(Y_test == i, y_pred == i)\n",
    "        prc_data[class_label] = (precision, recall)\n",
    "    \n",
    "    # Plot the precision-recall curves\n",
    "    plt.figure(figsize=(8, 6))\n",
    "    for class_label, (precision, recall) in prc_data.items():\n",
    "        plt.plot(recall, precision, label=class_label)  # Use class_label directly\n",
    "    plt.xlabel('Recall')\n",
    "    plt.ylabel('Precision')\n",
    "    plt.title(f'Precision-Recall Curve ({model})')\n",
    "    plt.legend()\n",
    "    plt.grid(True)\n",
    "    plt.show()\n"
   ]
  },
  {
   "cell_type": "code",
   "execution_count": 37,
   "id": "937aa86a-557d-4490-981c-908f6a154a49",
   "metadata": {},
   "outputs": [
    {
     "data": {
      "image/png": "[encoded data removed]",
      "text/plain": [
       "<Figure size 800x600 with 1 Axes>"
      ]
     },
     "metadata": {},
     "output_type": "display_data"
    }
   ],
   "source": [
    "Precision_Recall_Curve(pred_knn, 'KNN')"
   ]
  },
  {
   "cell_type": "markdown",
   "id": "08391241-0beb-4138-a377-996eecd6fac5",
   "metadata": {},
   "source": [
    "#Support Vector Algorithm"
   ]
  },
  {
   "cell_type": "code",
   "execution_count": 38,
   "id": "8ba62615-0caf-442f-ae8c-862c4dfa9ea0",
   "metadata": {},
   "outputs": [],
   "source": [
    "from sklearn.svm import SVC"
   ]
  },
  {
   "cell_type": "code",
   "execution_count": 39,
   "id": "43662d8d-90ff-4d0b-ba9c-3f1509ef4c28",
   "metadata": {},
   "outputs": [],
   "source": [
    "svc = SVC(C=1, gamma=0.1)"
   ]
  },
  {
   "cell_type": "markdown",
   "id": "8a5d0c39-5794-429c-9cb6-256d370a2366",
   "metadata": {},
   "source": [
    "cross validation"
   ]
  },
  {
   "cell_type": "code",
   "execution_count": 40,
   "id": "1bbbf828-32b4-4a0e-adec-9433732af2f5",
   "metadata": {},
   "outputs": [
    {
     "name": "stdout",
     "output_type": "stream",
     "text": [
      "cv scores : [0.84444444 0.86222222 0.88       0.86666667 0.86222222]\n",
      "Average accuracy : 0.863111111111111\n"
     ]
    }
   ],
   "source": [
    "svc_cv_scores = cross_val_score(svc, X_train, Y_train, cv=cv)\n",
    "print('cv scores :', svc_cv_scores)\n",
    "print('Average accuracy :', np.mean(svc_cv_scores))"
   ]
  },
  {
   "cell_type": "markdown",
   "id": "9be6fe4b-6f6f-4e48-b199-d259c795fab5",
   "metadata": {},
   "source": [
    "Evaluation"
   ]
  },
  {
   "cell_type": "code",
   "execution_count": 41,
   "id": "994a726c-eab2-4e03-8135-9e8f0d60e01e",
   "metadata": {},
   "outputs": [
    {
     "name": "stdout",
     "output_type": "stream",
     "text": [
      "Test Accuracy of Support Vector Algorithm:  0.912\n",
      "F1-score : 0.9123\n",
      "Precision : 0.9140\n",
      "Recall : 0.912\n"
     ]
    }
   ],
   "source": [
    "svc.fit(X_train,Y_train)\n",
    "\n",
    "svc_pred = svc.predict(X_test)\n",
    "\n",
    "svc_accuracy = accuracy_score(Y_test,svc_pred)\n",
    "print('Test Accuracy of Support Vector Algorithm: ',svc_accuracy)\n",
    "\n",
    "# Calculate f1 score precision and recall\n",
    "svc_f1 = f1_score(Y_test, svc_pred, average='macro')\n",
    "svc_precision = precision_score(Y_test, svc_pred, average='weighted')\n",
    "svc_recall = recall_score(Y_test, svc_pred, average='weighted')\n",
    "\n",
    "# Print the results\n",
    "print(f'F1-score : {svc_f1:.4f}')\n",
    "print(f'Precision : {svc_precision:.4f}')\n",
    "print(f'Recall : {svc_recall}')"
   ]
  },
  {
   "cell_type": "markdown",
   "id": "dbeee99d-5d3c-468a-abd0-7d91e403d400",
   "metadata": {},
   "source": [
    "Classification Report"
   ]
  },
  {
   "cell_type": "code",
   "execution_count": 42,
   "id": "50a5f9d4-4503-4297-bc5d-962c57a3db31",
   "metadata": {},
   "outputs": [
    {
     "name": "stdout",
     "output_type": "stream",
     "text": [
      "              precision    recall  f1-score   support\n",
      "\n",
      "    bewickii       0.87      0.94      0.90        50\n",
      "  cardinalis       1.00      0.94      0.97        50\n",
      "     melodia       0.90      0.90      0.90        50\n",
      " migratorius       0.88      0.92      0.90        50\n",
      " polyglottos       0.91      0.86      0.89        50\n",
      "\n",
      "    accuracy                           0.91       250\n",
      "   macro avg       0.91      0.91      0.91       250\n",
      "weighted avg       0.91      0.91      0.91       250\n",
      "\n"
     ]
    }
   ],
   "source": [
    "print(classification_report(Y_test, svc_pred, target_names=class_labels))"
   ]
  },
  {
   "cell_type": "markdown",
   "id": "599c7c3d-d45c-453b-b94e-1f33dda07689",
   "metadata": {},
   "source": [
    "confusion matrix"
   ]
  },
  {
   "cell_type": "code",
   "execution_count": 43,
   "id": "50e1ab00-518a-46d4-9c6f-8a6bb7dac42e",
   "metadata": {},
   "outputs": [
    {
     "data": {
      "image/png": "[encoded data removed]",
      "text/plain": [
       "<Figure size 640x480 with 2 Axes>"
      ]
     },
     "metadata": {},
     "output_type": "display_data"
    }
   ],
   "source": [
    "# Generate confusion matrix\n",
    "svc_confusion_matrix = confusion_matrix(Y_test, svc_pred)\n",
    "confusion_matrix_plot(svc_confusion_matrix, 'SVC')"
   ]
  },
  {
   "cell_type": "markdown",
   "id": "0b7fa2b7-574d-4365-9c76-e78fefb77e77",
   "metadata": {},
   "source": [
    "Precision Recall Curve"
   ]
  },
  {
   "cell_type": "code",
   "execution_count": 44,
   "id": "cdf1eaae-d530-470a-83fc-2e02edbc4ff2",
   "metadata": {},
   "outputs": [
    {
     "data": {
      "image/png": "[encoded data removed]",
      "text/plain": [
       "<Figure size 800x600 with 1 Axes>"
      ]
     },
     "metadata": {},
     "output_type": "display_data"
    }
   ],
   "source": [
    "# Precision-recall curve for each bird species\n",
    "Precision_Recall_Curve(svc_pred, 'SVC')"
   ]
  },
  {
   "cell_type": "markdown",
   "id": "4651c043-233e-49b5-a5a3-568d4bf03ef9",
   "metadata": {},
   "source": [
    "Random Forest Classifier"
   ]
  },
  {
   "cell_type": "code",
   "execution_count": 45,
   "id": "3eeec31b-0638-47ba-8e4c-89b968af3a55",
   "metadata": {},
   "outputs": [],
   "source": [
    "from sklearn.ensemble import RandomForestClassifier"
   ]
  },
  {
   "cell_type": "code",
   "execution_count": 46,
   "id": "ec5b902e-3e6f-4d05-bbfe-e09d6ee16096",
   "metadata": {},
   "outputs": [],
   "source": [
    "# Create the Random Forest Classifier model\n",
    "rfc_model = RandomForestClassifier(n_estimators=300)  # n_estimators (number of trees)"
   ]
  },
  {
   "cell_type": "markdown",
   "id": "4398d5c3-395d-4b97-b3f9-c205c97ec9a4",
   "metadata": {},
   "source": [
    "cross validation"
   ]
  },
  {
   "cell_type": "code",
   "execution_count": 47,
   "id": "b42edfb2-55f6-4f6c-bf23-b8183053d373",
   "metadata": {},
   "outputs": [
    {
     "name": "stdout",
     "output_type": "stream",
     "text": [
      "cv scores : [0.82       0.82222222 0.83555556 0.84666667 0.80888889]\n",
      "Average accuracy : 0.8266666666666668\n"
     ]
    }
   ],
   "source": [
    "rfc_cv_scores = cross_val_score(rfc_model, X_train, Y_train, cv=cv)\n",
    "print('cv scores :', rfc_cv_scores)\n",
    "print('Average accuracy :', np.mean(rfc_cv_scores))"
   ]
  },
  {
   "cell_type": "markdown",
   "id": "1c5b3c7d-ac7f-42a6-825a-321aa80567c2",
   "metadata": {},
   "source": [
    "Evaluation"
   ]
  },
  {
   "cell_type": "code",
   "execution_count": 48,
   "id": "080d134c-f87f-4c2e-a982-7133caf0fe5e",
   "metadata": {},
   "outputs": [
    {
     "name": "stdout",
     "output_type": "stream",
     "text": [
      "Accuracy: 0.904\n",
      "F1-score : 0.9037\n",
      "Precision : 0.9048\n",
      "Recall : 0.904\n"
     ]
    }
   ],
   "source": [
    "# Train the model\n",
    "rfc_model.fit(X_train, Y_train)\n",
    "\n",
    "# Make predictions on the testing set\n",
    "rfc_pred = rfc_model.predict(X_test)\n",
    "\n",
    "# Evaluate the model's accuracy\n",
    "rfc_accuracy = accuracy_score(Y_test, rfc_pred)\n",
    "print(\"Accuracy:\", rfc_accuracy)\n",
    "\n",
    "# Calculate f1 score precision and recall\n",
    "rfc_f1 = f1_score(Y_test, rfc_pred, average='macro')\n",
    "rfc_precision = precision_score(Y_test, rfc_pred, average='weighted')\n",
    "rfc_recall = recall_score(Y_test, rfc_pred, average='weighted')\n",
    "\n",
    "# Print the results\n",
    "print(f'F1-score : {rfc_f1:.4f}')\n",
    "print(f'Precision : {rfc_precision:.4f}')\n",
    "print(f'Recall : {rfc_recall}')"
   ]
  },
  {
   "cell_type": "markdown",
   "id": "cad4b68c-d9d1-40cc-babf-12f18fae30f6",
   "metadata": {},
   "source": [
    "Classification Report"
   ]
  },
  {
   "cell_type": "code",
   "execution_count": 49,
   "id": "fab68855-5783-4042-8a4f-d2f3b8b4035f",
   "metadata": {},
   "outputs": [
    {
     "name": "stdout",
     "output_type": "stream",
     "text": [
      "              precision    recall  f1-score   support\n",
      "\n",
      "    bewickii       0.89      0.96      0.92        50\n",
      "  cardinalis       0.94      0.94      0.94        50\n",
      "     melodia       0.92      0.88      0.90        50\n",
      " migratorius       0.87      0.90      0.88        50\n",
      " polyglottos       0.91      0.84      0.87        50\n",
      "\n",
      "    accuracy                           0.90       250\n",
      "   macro avg       0.90      0.90      0.90       250\n",
      "weighted avg       0.90      0.90      0.90       250\n",
      "\n"
     ]
    }
   ],
   "source": [
    "print(classification_report(Y_test, rfc_pred, target_names=class_labels))"
   ]
  },
  {
   "cell_type": "markdown",
   "id": "223cf338-e513-439a-8821-edb256fb7b51",
   "metadata": {},
   "source": [
    "Confusion matrix"
   ]
  },
  {
   "cell_type": "code",
   "execution_count": 50,
   "id": "0f874427-ba55-4743-ac22-5d2dc42bb084",
   "metadata": {},
   "outputs": [
    {
     "data": {
      "image/png": "[encoded data removed]",
      "text/plain": [
       "<Figure size 640x480 with 2 Axes>"
      ]
     },
     "metadata": {},
     "output_type": "display_data"
    }
   ],
   "source": [
    "# Generate confusion matrix\n",
    "rfc_confusion_matrix = confusion_matrix(Y_test, rfc_pred)\n",
    "confusion_matrix_plot(rfc_confusion_matrix, 'Random Forest Classifier')"
   ]
  },
  {
   "cell_type": "markdown",
   "id": "0e3ca1ce-eede-4b5d-8eb5-9f476451fe90",
   "metadata": {},
   "source": [
    "Precision Recall curve"
   ]
  },
  {
   "cell_type": "code",
   "execution_count": 51,
   "id": "1fc63cdf-d5f6-4d1f-b118-a422891dcd7c",
   "metadata": {},
   "outputs": [
    {
     "data": {
      "image/png": "[encoded data removed]",
      "text/plain": [
       "<Figure size 800x600 with 1 Axes>"
      ]
     },
     "metadata": {},
     "output_type": "display_data"
    }
   ],
   "source": [
    "# Precision-recall curve for each bird species\n",
    "Precision_Recall_Curve(rfc_pred, 'SVC')"
   ]
  },
  {
   "cell_type": "markdown",
   "id": "55bbef63-a709-4bae-9030-869c745ec1f4",
   "metadata": {},
   "source": [
    "#1D CNN"
   ]
  },
  {
   "cell_type": "code",
   "execution_count": 52,
   "id": "35645d20-3e79-4887-8297-dc88607428bd",
   "metadata": {},
   "outputs": [
    {
     "name": "stdout",
     "output_type": "stream",
     "text": [
      "Requirement already satisfied: tensorflow in c:\\users\\91954\\anaconda3\\lib\\site-packages (2.16.1)\n",
      "Requirement already satisfied: tensorflow-intel==2.16.1 in c:\\users\\91954\\anaconda3\\lib\\site-packages (from tensorflow) (2.16.1)\n",
      "Requirement already satisfied: absl-py>=1.0.0 in c:\\users\\91954\\anaconda3\\lib\\site-packages (from tensorflow-intel==2.16.1->tensorflow) (2.1.0)\n",
      "Requirement already satisfied: astunparse>=1.6.0 in c:\\users\\91954\\anaconda3\\lib\\site-packages (from tensorflow-intel==2.16.1->tensorflow) (1.6.3)\n",
      "Requirement already satisfied: flatbuffers>=23.5.26 in c:\\users\\91954\\anaconda3\\lib\\site-packages (from tensorflow-intel==2.16.1->tensorflow) (24.3.25)\n",
      "Requirement already satisfied: gast!=0.5.0,!=0.5.1,!=0.5.2,>=0.2.1 in c:\\users\\91954\\anaconda3\\lib\\site-packages (from tensorflow-intel==2.16.1->tensorflow) (0.5.4)\n",
      "Requirement already satisfied: google-pasta>=0.1.1 in c:\\users\\91954\\anaconda3\\lib\\site-packages (from tensorflow-intel==2.16.1->tensorflow) (0.2.0)\n",
      "Requirement already satisfied: h5py>=3.10.0 in c:\\users\\91954\\anaconda3\\lib\\site-packages (from tensorflow-intel==2.16.1->tensorflow) (3.11.0)\n",
      "Requirement already satisfied: libclang>=13.0.0 in c:\\users\\91954\\anaconda3\\lib\\site-packages (from tensorflow-intel==2.16.1->tensorflow) (18.1.1)\n",
      "Requirement already satisfied: ml-dtypes~=0.3.1 in c:\\users\\91954\\anaconda3\\lib\\site-packages (from tensorflow-intel==2.16.1->tensorflow) (0.3.2)\n",
      "Requirement already satisfied: opt-einsum>=2.3.2 in c:\\users\\91954\\anaconda3\\lib\\site-packages (from tensorflow-intel==2.16.1->tensorflow) (3.3.0)\n",
      "Requirement already satisfied: packaging in c:\\users\\91954\\anaconda3\\lib\\site-packages (from tensorflow-intel==2.16.1->tensorflow) (23.1)\n",
      "Requirement already satisfied: protobuf!=4.21.0,!=4.21.1,!=4.21.2,!=4.21.3,!=4.21.4,!=4.21.5,<5.0.0dev,>=3.20.3 in c:\\users\\91954\\anaconda3\\lib\\site-packages (from tensorflow-intel==2.16.1->tensorflow) (3.20.3)\n",
      "Requirement already satisfied: requests<3,>=2.21.0 in c:\\users\\91954\\anaconda3\\lib\\site-packages (from tensorflow-intel==2.16.1->tensorflow) (2.31.0)\n",
      "Requirement already satisfied: setuptools in c:\\users\\91954\\anaconda3\\lib\\site-packages (from tensorflow-intel==2.16.1->tensorflow) (68.2.2)\n",
      "Requirement already satisfied: six>=1.12.0 in c:\\users\\91954\\anaconda3\\lib\\site-packages (from tensorflow-intel==2.16.1->tensorflow) (1.16.0)\n",
      "Requirement already satisfied: termcolor>=1.1.0 in c:\\users\\91954\\anaconda3\\lib\\site-packages (from tensorflow-intel==2.16.1->tensorflow) (2.4.0)\n",
      "Requirement already satisfied: typing-extensions>=3.6.6 in c:\\users\\91954\\anaconda3\\lib\\site-packages (from tensorflow-intel==2.16.1->tensorflow) (4.9.0)\n",
      "Requirement already satisfied: wrapt>=1.11.0 in c:\\users\\91954\\anaconda3\\lib\\site-packages (from tensorflow-intel==2.16.1->tensorflow) (1.14.1)\n",
      "Requirement already satisfied: grpcio<2.0,>=1.24.3 in c:\\users\\91954\\anaconda3\\lib\\site-packages (from tensorflow-intel==2.16.1->tensorflow) (1.64.1)\n",
      "Requirement already satisfied: tensorboard<2.17,>=2.16 in c:\\users\\91954\\anaconda3\\lib\\site-packages (from tensorflow-intel==2.16.1->tensorflow) (2.16.2)\n",
      "Requirement already satisfied: keras>=3.0.0 in c:\\users\\91954\\anaconda3\\lib\\site-packages (from tensorflow-intel==2.16.1->tensorflow) (3.3.3)\n",
      "Requirement already satisfied: tensorflow-io-gcs-filesystem>=0.23.1 in c:\\users\\91954\\anaconda3\\lib\\site-packages (from tensorflow-intel==2.16.1->tensorflow) (0.31.0)\n",
      "Requirement already satisfied: numpy<2.0.0,>=1.23.5 in c:\\users\\91954\\anaconda3\\lib\\site-packages (from tensorflow-intel==2.16.1->tensorflow) (1.26.4)\n",
      "Requirement already satisfied: wheel<1.0,>=0.23.0 in c:\\users\\91954\\anaconda3\\lib\\site-packages (from astunparse>=1.6.0->tensorflow-intel==2.16.1->tensorflow) (0.41.2)\n",
      "Requirement already satisfied: rich in c:\\users\\91954\\anaconda3\\lib\\site-packages (from keras>=3.0.0->tensorflow-intel==2.16.1->tensorflow) (13.3.5)\n",
      "Requirement already satisfied: namex in c:\\users\\91954\\anaconda3\\lib\\site-packages (from keras>=3.0.0->tensorflow-intel==2.16.1->tensorflow) (0.0.8)\n",
      "Requirement already satisfied: optree in c:\\users\\91954\\anaconda3\\lib\\site-packages (from keras>=3.0.0->tensorflow-intel==2.16.1->tensorflow) (0.11.0)\n",
      "Requirement already satisfied: charset-normalizer<4,>=2 in c:\\users\\91954\\anaconda3\\lib\\site-packages (from requests<3,>=2.21.0->tensorflow-intel==2.16.1->tensorflow) (2.0.4)\n",
      "Requirement already satisfied: idna<4,>=2.5 in c:\\users\\91954\\anaconda3\\lib\\site-packages (from requests<3,>=2.21.0->tensorflow-intel==2.16.1->tensorflow) (3.4)\n",
      "Requirement already satisfied: urllib3<3,>=1.21.1 in c:\\users\\91954\\anaconda3\\lib\\site-packages (from requests<3,>=2.21.0->tensorflow-intel==2.16.1->tensorflow) (2.0.7)\n",
      "Requirement already satisfied: certifi>=2017.4.17 in c:\\users\\91954\\anaconda3\\lib\\site-packages (from requests<3,>=2.21.0->tensorflow-intel==2.16.1->tensorflow) (2024.2.2)\n",
      "Requirement already satisfied: markdown>=2.6.8 in c:\\users\\91954\\anaconda3\\lib\\site-packages (from tensorboard<2.17,>=2.16->tensorflow-intel==2.16.1->tensorflow) (3.4.1)\n",
      "Requirement already satisfied: tensorboard-data-server<0.8.0,>=0.7.0 in c:\\users\\91954\\anaconda3\\lib\\site-packages (from tensorboard<2.17,>=2.16->tensorflow-intel==2.16.1->tensorflow) (0.7.2)\n",
      "Requirement already satisfied: werkzeug>=1.0.1 in c:\\users\\91954\\anaconda3\\lib\\site-packages (from tensorboard<2.17,>=2.16->tensorflow-intel==2.16.1->tensorflow) (2.2.3)\n",
      "Requirement already satisfied: MarkupSafe>=2.1.1 in c:\\users\\91954\\anaconda3\\lib\\site-packages (from werkzeug>=1.0.1->tensorboard<2.17,>=2.16->tensorflow-intel==2.16.1->tensorflow) (2.1.3)\n",
      "Requirement already satisfied: markdown-it-py<3.0.0,>=2.2.0 in c:\\users\\91954\\anaconda3\\lib\\site-packages (from rich->keras>=3.0.0->tensorflow-intel==2.16.1->tensorflow) (2.2.0)\n",
      "Requirement already satisfied: pygments<3.0.0,>=2.13.0 in c:\\users\\91954\\anaconda3\\lib\\site-packages (from rich->keras>=3.0.0->tensorflow-intel==2.16.1->tensorflow) (2.15.1)\n",
      "Requirement already satisfied: mdurl~=0.1 in c:\\users\\91954\\anaconda3\\lib\\site-packages (from markdown-it-py<3.0.0,>=2.2.0->rich->keras>=3.0.0->tensorflow-intel==2.16.1->tensorflow) (0.1.0)\n",
      "Note: you may need to restart the kernel to use updated packages.\n"
     ]
    }
   ],
   "source": [
    "pip install tensorflow\n"
   ]
  },
  {
   "cell_type": "code",
   "execution_count": 53,
   "id": "e872c45e-0034-4831-97d2-cf190833b3c0",
   "metadata": {},
   "outputs": [],
   "source": [
    "import tensorflow as tf"
   ]
  },
  {
   "cell_type": "markdown",
   "id": "fa5f8128-d8d3-4871-993f-06b033b3a35d",
   "metadata": {},
   "source": [
    "#Build 1D CNN model"
   ]
  },
  {
   "cell_type": "code",
   "execution_count": 54,
   "id": "6b64ff2b-ef2c-4eb8-a2f7-ca129949e8e7",
   "metadata": {},
   "outputs": [],
   "source": [
    "def build_1d_model(audio_features):\n",
    "    \n",
    "    num_classes = 5\n",
    "    \n",
    "    tf.keras.backend.clear_session()\n",
    "    \n",
    "    # Audio features input layer\n",
    "    inputs = tf.keras.layers.Input(shape=(audio_features.shape[1],audio_features.shape[2]), name='Audio_Features')\n",
    "    \n",
    "    # First convolutional block\n",
    "    x = tf.keras.layers.Conv1D(filters=35, kernel_size=5, name='conv_1', activation='relu', padding='same',\n",
    "                                  kernel_regularizer=tf.keras.regularizers.l2(0.02))(inputs)\n",
    "    x = tf.keras.layers.BatchNormalization()(x)\n",
    "    x = tf.keras.layers.MaxPool1D(pool_size=2, name='pool_1')(x)\n",
    "    x = tf.keras.layers.Dropout(rate=0.2)(x)\n",
    "\n",
    "    # Second convolutional block\n",
    "    x = tf.keras.layers.Conv1D(filters=70, kernel_size=5, name='conv_2', activation='relu', padding='same',\n",
    "                                      kernel_regularizer=tf.keras.regularizers.l2(0.02))(x)\n",
    "    x = tf.keras.layers.MaxPool1D(pool_size=3, name='pool_2')(x)\n",
    "    x = tf.keras.layers.Dropout(rate=0.3)(x)\n",
    "    \n",
    "    # Flatten the output for feeding into the dense layers\n",
    "    x = tf.keras.layers.Flatten()(x)\n",
    "\n",
    "    # Dense layers with a dropout layer\n",
    "    x = tf.keras.layers.Dense(units=500, name='dense_1', activation='relu')(x)\n",
    "    x = tf.keras.layers.Dropout(rate=0.5)(x)\n",
    "    x = tf.keras.layers.Dense(units=100, name='dense_2', activation='relu')(x)\n",
    "\n",
    "    # Last dense layer\n",
    "    outputs = tf.keras.layers.Dense(units=num_classes, name='dense_3', activation='softmax')(x)\n",
    "    \n",
    "    # Build model and print summary\n",
    "    model = tf.keras.Model(inputs=[inputs],\n",
    "                          outputs=outputs,\n",
    "                          name='Birds')\n",
    "    \n",
    "    print(model.summary())\n",
    "    \n",
    "    # Compile model\n",
    "    model.compile(optimizer='Adam', loss=tf.keras.losses.SparseCategoricalCrossentropy(), metrics=['accuracy'],\n",
    "              )\n",
    "\n",
    "    return model"
   ]
  },
  {
   "cell_type": "markdown",
   "id": "9320b3a3-90e2-41fe-8bdd-ef9d9b6f2615",
   "metadata": {},
   "source": [
    "#Scale & Split data"
   ]
  },
  {
   "cell_type": "markdown",
   "id": "f7ad54cb-a9aa-477d-bcab-bd5e0db1a422",
   "metadata": {},
   "source": [
    "with mfcc, bandwidth, spectral_centroid and rms"
   ]
  },
  {
   "cell_type": "code",
   "execution_count": 55,
   "id": "014d4cd8-0847-4374-a762-a56125145c41",
   "metadata": {},
   "outputs": [],
   "source": [
    "# Combine all features\n",
    "features = np.concatenate((mfcc, bandwidth, spectral_centroid, rms), axis=2)"
   ]
  },
  {
   "cell_type": "code",
   "execution_count": 56,
   "id": "e0c88977-40bb-4d8a-8010-f5c5300c24a1",
   "metadata": {},
   "outputs": [],
   "source": [
    "# calculate scalar mean and stantard deviation for cnn\n",
    "data, mean_cnn, std_cnn = processed(features, mean=False) "
   ]
  },
  {
   "cell_type": "code",
   "execution_count": 57,
   "id": "15066ee9-c586-4c81-ba8d-3cb0c1241c89",
   "metadata": {},
   "outputs": [],
   "source": [
    "# Split the dataset ito features and target variable\n",
    "X = data\n",
    "Y = audio_labels['Encoded']"
   ]
  },
  {
   "cell_type": "code",
   "execution_count": 58,
   "id": "26ee5085-3f5f-4018-ac8e-4265348b9413",
   "metadata": {},
   "outputs": [],
   "source": [
    "# Split the dataset to train and test\n",
    "X_train, X_test, Y_train, Y_test = train_test_split(X, Y, test_size=0.2, random_state=42, stratify=Y)\n",
    "\n",
    "# Split the train dataset to train and validation(val)\n",
    "x_train, x_val, y_train, y_val = train_test_split(X_train, Y_train, test_size=0.2, random_state=42, stratify=Y_train)"
   ]
  },
  {
   "cell_type": "code",
   "execution_count": 59,
   "id": "42618557-aeb0-4326-8d75-29d0aee6b0cb",
   "metadata": {},
   "outputs": [
    {
     "name": "stdout",
     "output_type": "stream",
     "text": [
      "Training set size: 1600\n",
      "Test set size: 500\n",
      "val set size: 400\n",
      "Training set class distribution: (array([0, 1, 2, 3, 4], dtype=int64), array([320, 320, 320, 320, 320], dtype=int64))\n",
      "val set class distribution: (array([0, 1, 2, 3, 4], dtype=int64), array([80, 80, 80, 80, 80], dtype=int64))\n",
      "Test set class distribution: (array([0, 1, 2, 3, 4], dtype=int64), array([100, 100, 100, 100, 100], dtype=int64))\n"
     ]
    }
   ],
   "source": [
    "print(\"Training set size:\", len(x_train))\n",
    "print(\"Test set size:\", len(X_test))\n",
    "print(\"val set size:\", len(x_val))\n",
    "\n",
    "print(\"Training set class distribution:\", np.unique(y_train, return_counts=True))\n",
    "print(\"val set class distribution:\", np.unique(y_val, return_counts=True))\n",
    "print(\"Test set class distribution:\", np.unique(Y_test, return_counts=True))"
   ]
  },
  {
   "cell_type": "markdown",
   "id": "2797897c-5ec1-4c1a-a4d7-35c4a5f998c9",
   "metadata": {},
   "source": [
    "#Train the model"
   ]
  },
  {
   "cell_type": "code",
   "execution_count": 64,
   "id": "948bd08a-99a3-4552-8604-79ea874860b7",
   "metadata": {},
   "outputs": [
    {
     "data": {
      "text/html": [
       "<pre style=\"white-space:pre;overflow-x:auto;line-height:normal;font-family:Menlo,'DejaVu Sans Mono',consolas,'Courier New',monospace\"><span style=\"font-weight: bold\">Model: \"Birds\"</span>\n",
       "</pre>\n"
      ],
      "text/plain": [
       "\u001b[1mModel: \"Birds\"\u001b[0m\n"
      ]
     },
     "metadata": {},
     "output_type": "display_data"
    },
    {
     "data": {
      "text/html": [
       "<pre style=\"white-space:pre;overflow-x:auto;line-height:normal;font-family:Menlo,'DejaVu Sans Mono',consolas,'Courier New',monospace\">┏━━━━━━━━━━━━━━━━━━━━━━━━━━━━━━━━━┳━━━━━━━━━━━━━━━━━━━━━━━━┳━━━━━━━━━━━━━━━┓\n",
       "┃<span style=\"font-weight: bold\"> Layer (type)                    </span>┃<span style=\"font-weight: bold\"> Output Shape           </span>┃<span style=\"font-weight: bold\">       Param # </span>┃\n",
       "┡━━━━━━━━━━━━━━━━━━━━━━━━━━━━━━━━━╇━━━━━━━━━━━━━━━━━━━━━━━━╇━━━━━━━━━━━━━━━┩\n",
       "│ Audio_Features (<span style=\"color: #0087ff; text-decoration-color: #0087ff\">InputLayer</span>)     │ (<span style=\"color: #00d7ff; text-decoration-color: #00d7ff\">None</span>, <span style=\"color: #00af00; text-decoration-color: #00af00\">130</span>, <span style=\"color: #00af00; text-decoration-color: #00af00\">23</span>)        │             <span style=\"color: #00af00; text-decoration-color: #00af00\">0</span> │\n",
       "├─────────────────────────────────┼────────────────────────┼───────────────┤\n",
       "│ conv_1 (<span style=\"color: #0087ff; text-decoration-color: #0087ff\">Conv1D</span>)                 │ (<span style=\"color: #00d7ff; text-decoration-color: #00d7ff\">None</span>, <span style=\"color: #00af00; text-decoration-color: #00af00\">130</span>, <span style=\"color: #00af00; text-decoration-color: #00af00\">35</span>)        │         <span style=\"color: #00af00; text-decoration-color: #00af00\">4,060</span> │\n",
       "├─────────────────────────────────┼────────────────────────┼───────────────┤\n",
       "│ batch_normalization             │ (<span style=\"color: #00d7ff; text-decoration-color: #00d7ff\">None</span>, <span style=\"color: #00af00; text-decoration-color: #00af00\">130</span>, <span style=\"color: #00af00; text-decoration-color: #00af00\">35</span>)        │           <span style=\"color: #00af00; text-decoration-color: #00af00\">140</span> │\n",
       "│ (<span style=\"color: #0087ff; text-decoration-color: #0087ff\">BatchNormalization</span>)            │                        │               │\n",
       "├─────────────────────────────────┼────────────────────────┼───────────────┤\n",
       "│ pool_1 (<span style=\"color: #0087ff; text-decoration-color: #0087ff\">MaxPooling1D</span>)           │ (<span style=\"color: #00d7ff; text-decoration-color: #00d7ff\">None</span>, <span style=\"color: #00af00; text-decoration-color: #00af00\">65</span>, <span style=\"color: #00af00; text-decoration-color: #00af00\">35</span>)         │             <span style=\"color: #00af00; text-decoration-color: #00af00\">0</span> │\n",
       "├─────────────────────────────────┼────────────────────────┼───────────────┤\n",
       "│ dropout (<span style=\"color: #0087ff; text-decoration-color: #0087ff\">Dropout</span>)               │ (<span style=\"color: #00d7ff; text-decoration-color: #00d7ff\">None</span>, <span style=\"color: #00af00; text-decoration-color: #00af00\">65</span>, <span style=\"color: #00af00; text-decoration-color: #00af00\">35</span>)         │             <span style=\"color: #00af00; text-decoration-color: #00af00\">0</span> │\n",
       "├─────────────────────────────────┼────────────────────────┼───────────────┤\n",
       "│ conv_2 (<span style=\"color: #0087ff; text-decoration-color: #0087ff\">Conv1D</span>)                 │ (<span style=\"color: #00d7ff; text-decoration-color: #00d7ff\">None</span>, <span style=\"color: #00af00; text-decoration-color: #00af00\">65</span>, <span style=\"color: #00af00; text-decoration-color: #00af00\">70</span>)         │        <span style=\"color: #00af00; text-decoration-color: #00af00\">12,320</span> │\n",
       "├─────────────────────────────────┼────────────────────────┼───────────────┤\n",
       "│ pool_2 (<span style=\"color: #0087ff; text-decoration-color: #0087ff\">MaxPooling1D</span>)           │ (<span style=\"color: #00d7ff; text-decoration-color: #00d7ff\">None</span>, <span style=\"color: #00af00; text-decoration-color: #00af00\">21</span>, <span style=\"color: #00af00; text-decoration-color: #00af00\">70</span>)         │             <span style=\"color: #00af00; text-decoration-color: #00af00\">0</span> │\n",
       "├─────────────────────────────────┼────────────────────────┼───────────────┤\n",
       "│ dropout_1 (<span style=\"color: #0087ff; text-decoration-color: #0087ff\">Dropout</span>)             │ (<span style=\"color: #00d7ff; text-decoration-color: #00d7ff\">None</span>, <span style=\"color: #00af00; text-decoration-color: #00af00\">21</span>, <span style=\"color: #00af00; text-decoration-color: #00af00\">70</span>)         │             <span style=\"color: #00af00; text-decoration-color: #00af00\">0</span> │\n",
       "├─────────────────────────────────┼────────────────────────┼───────────────┤\n",
       "│ flatten (<span style=\"color: #0087ff; text-decoration-color: #0087ff\">Flatten</span>)               │ (<span style=\"color: #00d7ff; text-decoration-color: #00d7ff\">None</span>, <span style=\"color: #00af00; text-decoration-color: #00af00\">1470</span>)           │             <span style=\"color: #00af00; text-decoration-color: #00af00\">0</span> │\n",
       "├─────────────────────────────────┼────────────────────────┼───────────────┤\n",
       "│ dense_1 (<span style=\"color: #0087ff; text-decoration-color: #0087ff\">Dense</span>)                 │ (<span style=\"color: #00d7ff; text-decoration-color: #00d7ff\">None</span>, <span style=\"color: #00af00; text-decoration-color: #00af00\">500</span>)            │       <span style=\"color: #00af00; text-decoration-color: #00af00\">735,500</span> │\n",
       "├─────────────────────────────────┼────────────────────────┼───────────────┤\n",
       "│ dropout_2 (<span style=\"color: #0087ff; text-decoration-color: #0087ff\">Dropout</span>)             │ (<span style=\"color: #00d7ff; text-decoration-color: #00d7ff\">None</span>, <span style=\"color: #00af00; text-decoration-color: #00af00\">500</span>)            │             <span style=\"color: #00af00; text-decoration-color: #00af00\">0</span> │\n",
       "├─────────────────────────────────┼────────────────────────┼───────────────┤\n",
       "│ dense_2 (<span style=\"color: #0087ff; text-decoration-color: #0087ff\">Dense</span>)                 │ (<span style=\"color: #00d7ff; text-decoration-color: #00d7ff\">None</span>, <span style=\"color: #00af00; text-decoration-color: #00af00\">100</span>)            │        <span style=\"color: #00af00; text-decoration-color: #00af00\">50,100</span> │\n",
       "├─────────────────────────────────┼────────────────────────┼───────────────┤\n",
       "│ dense_3 (<span style=\"color: #0087ff; text-decoration-color: #0087ff\">Dense</span>)                 │ (<span style=\"color: #00d7ff; text-decoration-color: #00d7ff\">None</span>, <span style=\"color: #00af00; text-decoration-color: #00af00\">5</span>)              │           <span style=\"color: #00af00; text-decoration-color: #00af00\">505</span> │\n",
       "└─────────────────────────────────┴────────────────────────┴───────────────┘\n",
       "</pre>\n"
      ],
      "text/plain": [
       "┏━━━━━━━━━━━━━━━━━━━━━━━━━━━━━━━━━┳━━━━━━━━━━━━━━━━━━━━━━━━┳━━━━━━━━━━━━━━━┓\n",
       "┃\u001b[1m \u001b[0m\u001b[1mLayer (type)                   \u001b[0m\u001b[1m \u001b[0m┃\u001b[1m \u001b[0m\u001b[1mOutput Shape          \u001b[0m\u001b[1m \u001b[0m┃\u001b[1m \u001b[0m\u001b[1m      Param #\u001b[0m\u001b[1m \u001b[0m┃\n",
       "┡━━━━━━━━━━━━━━━━━━━━━━━━━━━━━━━━━╇━━━━━━━━━━━━━━━━━━━━━━━━╇━━━━━━━━━━━━━━━┩\n",
       "│ Audio_Features (\u001b[38;5;33mInputLayer\u001b[0m)     │ (\u001b[38;5;45mNone\u001b[0m, \u001b[38;5;34m130\u001b[0m, \u001b[38;5;34m23\u001b[0m)        │             \u001b[38;5;34m0\u001b[0m │\n",
       "├─────────────────────────────────┼────────────────────────┼───────────────┤\n",
       "│ conv_1 (\u001b[38;5;33mConv1D\u001b[0m)                 │ (\u001b[38;5;45mNone\u001b[0m, \u001b[38;5;34m130\u001b[0m, \u001b[38;5;34m35\u001b[0m)        │         \u001b[38;5;34m4,060\u001b[0m │\n",
       "├─────────────────────────────────┼────────────────────────┼───────────────┤\n",
       "│ batch_normalization             │ (\u001b[38;5;45mNone\u001b[0m, \u001b[38;5;34m130\u001b[0m, \u001b[38;5;34m35\u001b[0m)        │           \u001b[38;5;34m140\u001b[0m │\n",
       "│ (\u001b[38;5;33mBatchNormalization\u001b[0m)            │                        │               │\n",
       "├─────────────────────────────────┼────────────────────────┼───────────────┤\n",
       "│ pool_1 (\u001b[38;5;33mMaxPooling1D\u001b[0m)           │ (\u001b[38;5;45mNone\u001b[0m, \u001b[38;5;34m65\u001b[0m, \u001b[38;5;34m35\u001b[0m)         │             \u001b[38;5;34m0\u001b[0m │\n",
       "├─────────────────────────────────┼────────────────────────┼───────────────┤\n",
       "│ dropout (\u001b[38;5;33mDropout\u001b[0m)               │ (\u001b[38;5;45mNone\u001b[0m, \u001b[38;5;34m65\u001b[0m, \u001b[38;5;34m35\u001b[0m)         │             \u001b[38;5;34m0\u001b[0m │\n",
       "├─────────────────────────────────┼────────────────────────┼───────────────┤\n",
       "│ conv_2 (\u001b[38;5;33mConv1D\u001b[0m)                 │ (\u001b[38;5;45mNone\u001b[0m, \u001b[38;5;34m65\u001b[0m, \u001b[38;5;34m70\u001b[0m)         │        \u001b[38;5;34m12,320\u001b[0m │\n",
       "├─────────────────────────────────┼────────────────────────┼───────────────┤\n",
       "│ pool_2 (\u001b[38;5;33mMaxPooling1D\u001b[0m)           │ (\u001b[38;5;45mNone\u001b[0m, \u001b[38;5;34m21\u001b[0m, \u001b[38;5;34m70\u001b[0m)         │             \u001b[38;5;34m0\u001b[0m │\n",
       "├─────────────────────────────────┼────────────────────────┼───────────────┤\n",
       "│ dropout_1 (\u001b[38;5;33mDropout\u001b[0m)             │ (\u001b[38;5;45mNone\u001b[0m, \u001b[38;5;34m21\u001b[0m, \u001b[38;5;34m70\u001b[0m)         │             \u001b[38;5;34m0\u001b[0m │\n",
       "├─────────────────────────────────┼────────────────────────┼───────────────┤\n",
       "│ flatten (\u001b[38;5;33mFlatten\u001b[0m)               │ (\u001b[38;5;45mNone\u001b[0m, \u001b[38;5;34m1470\u001b[0m)           │             \u001b[38;5;34m0\u001b[0m │\n",
       "├─────────────────────────────────┼────────────────────────┼───────────────┤\n",
       "│ dense_1 (\u001b[38;5;33mDense\u001b[0m)                 │ (\u001b[38;5;45mNone\u001b[0m, \u001b[38;5;34m500\u001b[0m)            │       \u001b[38;5;34m735,500\u001b[0m │\n",
       "├─────────────────────────────────┼────────────────────────┼───────────────┤\n",
       "│ dropout_2 (\u001b[38;5;33mDropout\u001b[0m)             │ (\u001b[38;5;45mNone\u001b[0m, \u001b[38;5;34m500\u001b[0m)            │             \u001b[38;5;34m0\u001b[0m │\n",
       "├─────────────────────────────────┼────────────────────────┼───────────────┤\n",
       "│ dense_2 (\u001b[38;5;33mDense\u001b[0m)                 │ (\u001b[38;5;45mNone\u001b[0m, \u001b[38;5;34m100\u001b[0m)            │        \u001b[38;5;34m50,100\u001b[0m │\n",
       "├─────────────────────────────────┼────────────────────────┼───────────────┤\n",
       "│ dense_3 (\u001b[38;5;33mDense\u001b[0m)                 │ (\u001b[38;5;45mNone\u001b[0m, \u001b[38;5;34m5\u001b[0m)              │           \u001b[38;5;34m505\u001b[0m │\n",
       "└─────────────────────────────────┴────────────────────────┴───────────────┘\n"
      ]
     },
     "metadata": {},
     "output_type": "display_data"
    },
    {
     "data": {
      "text/html": [
       "<pre style=\"white-space:pre;overflow-x:auto;line-height:normal;font-family:Menlo,'DejaVu Sans Mono',consolas,'Courier New',monospace\"><span style=\"font-weight: bold\"> Total params: </span><span style=\"color: #00af00; text-decoration-color: #00af00\">802,625</span> (3.06 MB)\n",
       "</pre>\n"
      ],
      "text/plain": [
       "\u001b[1m Total params: \u001b[0m\u001b[38;5;34m802,625\u001b[0m (3.06 MB)\n"
      ]
     },
     "metadata": {},
     "output_type": "display_data"
    },
    {
     "data": {
      "text/html": [
       "<pre style=\"white-space:pre;overflow-x:auto;line-height:normal;font-family:Menlo,'DejaVu Sans Mono',consolas,'Courier New',monospace\"><span style=\"font-weight: bold\"> Trainable params: </span><span style=\"color: #00af00; text-decoration-color: #00af00\">802,555</span> (3.06 MB)\n",
       "</pre>\n"
      ],
      "text/plain": [
       "\u001b[1m Trainable params: \u001b[0m\u001b[38;5;34m802,555\u001b[0m (3.06 MB)\n"
      ]
     },
     "metadata": {},
     "output_type": "display_data"
    },
    {
     "data": {
      "text/html": [
       "<pre style=\"white-space:pre;overflow-x:auto;line-height:normal;font-family:Menlo,'DejaVu Sans Mono',consolas,'Courier New',monospace\"><span style=\"font-weight: bold\"> Non-trainable params: </span><span style=\"color: #00af00; text-decoration-color: #00af00\">70</span> (280.00 B)\n",
       "</pre>\n"
      ],
      "text/plain": [
       "\u001b[1m Non-trainable params: \u001b[0m\u001b[38;5;34m70\u001b[0m (280.00 B)\n"
      ]
     },
     "metadata": {},
     "output_type": "display_data"
    },
    {
     "name": "stdout",
     "output_type": "stream",
     "text": [
      "None\n"
     ]
    }
   ],
   "source": [
    "cnn_model = build_1d_model(x_train)"
   ]
  },
  {
   "cell_type": "markdown",
   "id": "1bf49afc-1b0a-4a5f-ba05-216f000fc430",
   "metadata": {},
   "source": [
    "tf.keras.utils.plot_model(cnn_model, dpi=70, show_layer_activations= True,\n",
    "                          show_shapes=True)"
   ]
  },
  {
   "cell_type": "code",
   "execution_count": 65,
   "id": "f92d5977-e713-4741-a230-15db518aa019",
   "metadata": {},
   "outputs": [
    {
     "name": "stdout",
     "output_type": "stream",
     "text": [
      "Epoch 1/30\n",
      "\u001b[1m50/50\u001b[0m \u001b[32m━━━━━━━━━━━━━━━━━━━━\u001b[0m\u001b[37m\u001b[0m \u001b[1m6s\u001b[0m 32ms/step - accuracy: 0.2498 - loss: 3.4757 - val_accuracy: 0.5200 - val_loss: 2.4327\n",
      "Epoch 2/30\n",
      "\u001b[1m50/50\u001b[0m \u001b[32m━━━━━━━━━━━━━━━━━━━━\u001b[0m\u001b[37m\u001b[0m \u001b[1m1s\u001b[0m 21ms/step - accuracy: 0.5327 - loss: 2.2859 - val_accuracy: 0.6100 - val_loss: 2.0073\n",
      "Epoch 3/30\n",
      "\u001b[1m50/50\u001b[0m \u001b[32m━━━━━━━━━━━━━━━━━━━━\u001b[0m\u001b[37m\u001b[0m \u001b[1m1s\u001b[0m 21ms/step - accuracy: 0.6235 - loss: 1.8959 - val_accuracy: 0.6450 - val_loss: 1.7726\n",
      "Epoch 4/30\n",
      "\u001b[1m50/50\u001b[0m \u001b[32m━━━━━━━━━━━━━━━━━━━━\u001b[0m\u001b[37m\u001b[0m \u001b[1m1s\u001b[0m 21ms/step - accuracy: 0.6588 - loss: 1.6519 - val_accuracy: 0.6650 - val_loss: 1.5368\n",
      "Epoch 5/30\n",
      "\u001b[1m50/50\u001b[0m \u001b[32m━━━━━━━━━━━━━━━━━━━━\u001b[0m\u001b[37m\u001b[0m \u001b[1m1s\u001b[0m 21ms/step - accuracy: 0.7044 - loss: 1.4263 - val_accuracy: 0.6675 - val_loss: 1.3979\n",
      "Epoch 6/30\n",
      "\u001b[1m50/50\u001b[0m \u001b[32m━━━━━━━━━━━━━━━━━━━━\u001b[0m\u001b[37m\u001b[0m \u001b[1m1s\u001b[0m 20ms/step - accuracy: 0.7396 - loss: 1.2148 - val_accuracy: 0.7275 - val_loss: 1.2092\n",
      "Epoch 7/30\n",
      "\u001b[1m50/50\u001b[0m \u001b[32m━━━━━━━━━━━━━━━━━━━━\u001b[0m\u001b[37m\u001b[0m \u001b[1m1s\u001b[0m 19ms/step - accuracy: 0.7699 - loss: 1.0578 - val_accuracy: 0.6925 - val_loss: 1.1307\n",
      "Epoch 8/30\n",
      "\u001b[1m50/50\u001b[0m \u001b[32m━━━━━━━━━━━━━━━━━━━━\u001b[0m\u001b[37m\u001b[0m \u001b[1m1s\u001b[0m 21ms/step - accuracy: 0.7730 - loss: 1.0051 - val_accuracy: 0.7350 - val_loss: 1.0505\n",
      "Epoch 9/30\n",
      "\u001b[1m50/50\u001b[0m \u001b[32m━━━━━━━━━━━━━━━━━━━━\u001b[0m\u001b[37m\u001b[0m \u001b[1m1s\u001b[0m 19ms/step - accuracy: 0.7951 - loss: 0.8819 - val_accuracy: 0.7600 - val_loss: 0.9616\n",
      "Epoch 10/30\n",
      "\u001b[1m50/50\u001b[0m \u001b[32m━━━━━━━━━━━━━━━━━━━━\u001b[0m\u001b[37m\u001b[0m \u001b[1m1s\u001b[0m 19ms/step - accuracy: 0.8369 - loss: 0.7762 - val_accuracy: 0.7950 - val_loss: 0.8490\n",
      "Epoch 11/30\n",
      "\u001b[1m50/50\u001b[0m \u001b[32m━━━━━━━━━━━━━━━━━━━━\u001b[0m\u001b[37m\u001b[0m \u001b[1m1s\u001b[0m 19ms/step - accuracy: 0.8244 - loss: 0.7442 - val_accuracy: 0.7575 - val_loss: 0.8714\n",
      "Epoch 12/30\n",
      "\u001b[1m50/50\u001b[0m \u001b[32m━━━━━━━━━━━━━━━━━━━━\u001b[0m\u001b[37m\u001b[0m \u001b[1m1s\u001b[0m 19ms/step - accuracy: 0.8572 - loss: 0.6699 - val_accuracy: 0.8025 - val_loss: 0.8265\n",
      "Epoch 13/30\n",
      "\u001b[1m50/50\u001b[0m \u001b[32m━━━━━━━━━━━━━━━━━━━━\u001b[0m\u001b[37m\u001b[0m \u001b[1m1s\u001b[0m 19ms/step - accuracy: 0.8498 - loss: 0.6285 - val_accuracy: 0.8050 - val_loss: 0.8049\n",
      "Epoch 14/30\n",
      "\u001b[1m50/50\u001b[0m \u001b[32m━━━━━━━━━━━━━━━━━━━━\u001b[0m\u001b[37m\u001b[0m \u001b[1m1s\u001b[0m 19ms/step - accuracy: 0.8974 - loss: 0.5433 - val_accuracy: 0.7850 - val_loss: 0.8440\n",
      "Epoch 15/30\n",
      "\u001b[1m50/50\u001b[0m \u001b[32m━━━━━━━━━━━━━━━━━━━━\u001b[0m\u001b[37m\u001b[0m \u001b[1m1s\u001b[0m 19ms/step - accuracy: 0.8735 - loss: 0.5894 - val_accuracy: 0.8275 - val_loss: 0.7346\n",
      "Epoch 16/30\n",
      "\u001b[1m50/50\u001b[0m \u001b[32m━━━━━━━━━━━━━━━━━━━━\u001b[0m\u001b[37m\u001b[0m \u001b[1m1s\u001b[0m 20ms/step - accuracy: 0.8878 - loss: 0.5269 - val_accuracy: 0.8375 - val_loss: 0.7015\n",
      "Epoch 17/30\n",
      "\u001b[1m50/50\u001b[0m \u001b[32m━━━━━━━━━━━━━━━━━━━━\u001b[0m\u001b[37m\u001b[0m \u001b[1m1s\u001b[0m 19ms/step - accuracy: 0.8822 - loss: 0.5335 - val_accuracy: 0.8475 - val_loss: 0.7128\n",
      "Epoch 18/30\n",
      "\u001b[1m50/50\u001b[0m \u001b[32m━━━━━━━━━━━━━━━━━━━━\u001b[0m\u001b[37m\u001b[0m \u001b[1m1s\u001b[0m 19ms/step - accuracy: 0.9139 - loss: 0.4725 - val_accuracy: 0.8175 - val_loss: 0.7649\n",
      "Epoch 19/30\n",
      "\u001b[1m50/50\u001b[0m \u001b[32m━━━━━━━━━━━━━━━━━━━━\u001b[0m\u001b[37m\u001b[0m \u001b[1m1s\u001b[0m 19ms/step - accuracy: 0.9092 - loss: 0.4548 - val_accuracy: 0.8375 - val_loss: 0.6415\n",
      "Epoch 20/30\n",
      "\u001b[1m50/50\u001b[0m \u001b[32m━━━━━━━━━━━━━━━━━━━━\u001b[0m\u001b[37m\u001b[0m \u001b[1m1s\u001b[0m 20ms/step - accuracy: 0.9311 - loss: 0.4233 - val_accuracy: 0.8175 - val_loss: 0.7491\n",
      "Epoch 21/30\n",
      "\u001b[1m50/50\u001b[0m \u001b[32m━━━━━━━━━━━━━━━━━━━━\u001b[0m\u001b[37m\u001b[0m \u001b[1m1s\u001b[0m 19ms/step - accuracy: 0.9154 - loss: 0.4227 - val_accuracy: 0.8525 - val_loss: 0.6031\n",
      "Epoch 22/30\n",
      "\u001b[1m50/50\u001b[0m \u001b[32m━━━━━━━━━━━━━━━━━━━━\u001b[0m\u001b[37m\u001b[0m \u001b[1m1s\u001b[0m 19ms/step - accuracy: 0.9356 - loss: 0.3802 - val_accuracy: 0.8050 - val_loss: 0.7163\n",
      "Epoch 23/30\n",
      "\u001b[1m50/50\u001b[0m \u001b[32m━━━━━━━━━━━━━━━━━━━━\u001b[0m\u001b[37m\u001b[0m \u001b[1m1s\u001b[0m 19ms/step - accuracy: 0.9386 - loss: 0.3871 - val_accuracy: 0.8400 - val_loss: 0.6655\n",
      "Epoch 24/30\n",
      "\u001b[1m50/50\u001b[0m \u001b[32m━━━━━━━━━━━━━━━━━━━━\u001b[0m\u001b[37m\u001b[0m \u001b[1m1s\u001b[0m 19ms/step - accuracy: 0.9391 - loss: 0.3952 - val_accuracy: 0.8175 - val_loss: 0.8076\n",
      "Epoch 25/30\n",
      "\u001b[1m50/50\u001b[0m \u001b[32m━━━━━━━━━━━━━━━━━━━━\u001b[0m\u001b[37m\u001b[0m \u001b[1m1s\u001b[0m 20ms/step - accuracy: 0.9357 - loss: 0.3771 - val_accuracy: 0.8450 - val_loss: 0.6580\n",
      "Epoch 26/30\n",
      "\u001b[1m50/50\u001b[0m \u001b[32m━━━━━━━━━━━━━━━━━━━━\u001b[0m\u001b[37m\u001b[0m \u001b[1m1s\u001b[0m 20ms/step - accuracy: 0.9397 - loss: 0.3508 - val_accuracy: 0.8525 - val_loss: 0.6132\n",
      "Epoch 27/30\n",
      "\u001b[1m50/50\u001b[0m \u001b[32m━━━━━━━━━━━━━━━━━━━━\u001b[0m\u001b[37m\u001b[0m \u001b[1m1s\u001b[0m 20ms/step - accuracy: 0.9199 - loss: 0.4083 - val_accuracy: 0.8475 - val_loss: 0.6859\n",
      "Epoch 28/30\n",
      "\u001b[1m50/50\u001b[0m \u001b[32m━━━━━━━━━━━━━━━━━━━━\u001b[0m\u001b[37m\u001b[0m \u001b[1m1s\u001b[0m 21ms/step - accuracy: 0.9493 - loss: 0.3493 - val_accuracy: 0.8500 - val_loss: 0.6333\n",
      "Epoch 29/30\n",
      "\u001b[1m50/50\u001b[0m \u001b[32m━━━━━━━━━━━━━━━━━━━━\u001b[0m\u001b[37m\u001b[0m \u001b[1m1s\u001b[0m 19ms/step - accuracy: 0.9490 - loss: 0.3396 - val_accuracy: 0.8300 - val_loss: 0.6387\n",
      "Epoch 30/30\n",
      "\u001b[1m50/50\u001b[0m \u001b[32m━━━━━━━━━━━━━━━━━━━━\u001b[0m\u001b[37m\u001b[0m \u001b[1m1s\u001b[0m 19ms/step - accuracy: 0.9457 - loss: 0.3665 - val_accuracy: 0.8575 - val_loss: 0.6795\n"
     ]
    }
   ],
   "source": [
    "history = cnn_model.fit(x_train, y_train, epochs=30, validation_data=(x_val, y_val))"
   ]
  },
  {
   "cell_type": "markdown",
   "id": "cdc4f3e7-83f8-4fa4-ab01-95e93ad520ec",
   "metadata": {},
   "source": [
    "Evaluation"
   ]
  },
  {
   "cell_type": "code",
   "execution_count": 66,
   "id": "cc63cef6-4798-4d13-8aef-232bffdcf607",
   "metadata": {},
   "outputs": [
    {
     "name": "stdout",
     "output_type": "stream",
     "text": [
      "\u001b[1m16/16\u001b[0m \u001b[32m━━━━━━━━━━━━━━━━━━━━\u001b[0m\u001b[37m\u001b[0m \u001b[1m0s\u001b[0m 8ms/step - accuracy: 0.8400 - loss: 0.6875\n",
      "Test Accuracy: 0.8500\n"
     ]
    }
   ],
   "source": [
    "# Evaluate the model on test data\n",
    "test_loss, test_acc = cnn_model.evaluate(X_test, Y_test)\n",
    "print(f'Test Accuracy: {test_acc:.4f}')"
   ]
  },
  {
   "cell_type": "markdown",
   "id": "73ad0198-414e-4375-9334-73119905e822",
   "metadata": {},
   "source": [
    "#Loss and Accuracy plot"
   ]
  },
  {
   "cell_type": "code",
   "execution_count": 67,
   "id": "01aa27db-ed42-49e9-97d2-8ec4e1a3ce50",
   "metadata": {},
   "outputs": [
    {
     "data": {
      "image/png": "[encoded data removed]",
      "text/plain": [
       "<Figure size 640x480 with 1 Axes>"
      ]
     },
     "metadata": {},
     "output_type": "display_data"
    },
    {
     "data": {
      "image/png": "[encoded data removed]",
      "text/plain": [
       "<Figure size 640x480 with 1 Axes>"
      ]
     },
     "metadata": {},
     "output_type": "display_data"
    }
   ],
   "source": [
    "# Plot the training and validation loss/accuracy\n",
    "import matplotlib.pyplot as plt\n",
    "\n",
    "plt.plot(history.history[\"loss\"], label=\"Training Loss\")\n",
    "plt.plot(history.history[\"val_loss\"], label=\"Validation Loss\")\n",
    "plt.title(\"Model Loss\")\n",
    "plt.legend()\n",
    "plt.show()\n",
    "\n",
    "plt.plot(history.history[\"accuracy\"], label=\"Training Accuracy\")\n",
    "plt.plot(history.history[\"val_accuracy\"], label=\"Validation Accuracy\")\n",
    "plt.title(\"Model Accuracy\")\n",
    "plt.legend()\n",
    "plt.show()"
   ]
  },
  {
   "cell_type": "markdown",
   "id": "26f319a9-0ed2-44fb-8d7d-943a324ab6eb",
   "metadata": {},
   "source": [
    "classification report"
   ]
  },
  {
   "cell_type": "code",
   "execution_count": 68,
   "id": "22ee4e45-d879-4fdd-9022-c80584a81ae6",
   "metadata": {},
   "outputs": [
    {
     "name": "stdout",
     "output_type": "stream",
     "text": [
      "\u001b[1m16/16\u001b[0m \u001b[32m━━━━━━━━━━━━━━━━━━━━\u001b[0m\u001b[37m\u001b[0m \u001b[1m0s\u001b[0m 18ms/step\n"
     ]
    }
   ],
   "source": [
    "# Generate classification report\n",
    "cnn_pred = cnn_model.predict(X_test)\n",
    "cnn_pred_classes = tf.math.argmax(cnn_pred, axis=1)  # Get predicted class labels"
   ]
  },
  {
   "cell_type": "code",
   "execution_count": 69,
   "id": "79432a87-859a-4348-8c9d-d4b04b6d4c05",
   "metadata": {},
   "outputs": [
    {
     "name": "stdout",
     "output_type": "stream",
     "text": [
      "              precision    recall  f1-score   support\n",
      "\n",
      "    bewickii       0.82      0.83      0.83       100\n",
      "  cardinalis       0.89      0.90      0.90       100\n",
      "     melodia       0.81      0.90      0.85       100\n",
      " migratorius       0.81      0.96      0.88       100\n",
      " polyglottos       0.97      0.66      0.79       100\n",
      "\n",
      "    accuracy                           0.85       500\n",
      "   macro avg       0.86      0.85      0.85       500\n",
      "weighted avg       0.86      0.85      0.85       500\n",
      "\n"
     ]
    }
   ],
   "source": [
    "print(classification_report(Y_test, cnn_pred_classes, target_names=class_labels))"
   ]
  },
  {
   "cell_type": "markdown",
   "id": "b20c18d4-2d45-45da-9ad5-300558093716",
   "metadata": {},
   "source": [
    "confusion matrix"
   ]
  },
  {
   "cell_type": "code",
   "execution_count": 70,
   "id": "337b76ac-270e-496c-a72d-1b8518a7f6c3",
   "metadata": {},
   "outputs": [
    {
     "data": {
      "image/png": "[encoded data removed]",
      "text/plain": [
       "<Figure size 640x480 with 2 Axes>"
      ]
     },
     "metadata": {},
     "output_type": "display_data"
    }
   ],
   "source": [
    "# Generate confusion matrix\n",
    "cnn_confusion_matrix = confusion_matrix(Y_test, cnn_pred_classes)\n",
    "confusion_matrix_plot(cnn_confusion_matrix, '1D CNN')"
   ]
  },
  {
   "cell_type": "markdown",
   "id": "af1c6622-9d5c-4056-ac50-f4608b56b519",
   "metadata": {},
   "source": [
    "#Save Model"
   ]
  },
  {
   "cell_type": "code",
   "execution_count": 71,
   "id": "5c6e966d-375c-417c-983f-1241e196af0d",
   "metadata": {},
   "outputs": [],
   "source": [
    "import pickle"
   ]
  },
  {
   "cell_type": "code",
   "execution_count": 72,
   "id": "42b210fd-a40d-443b-981f-da264ac4733e",
   "metadata": {},
   "outputs": [
    {
     "name": "stdout",
     "output_type": "stream",
     "text": [
      "Models saved successfully\n"
     ]
    }
   ],
   "source": [
    "# Models to save\n",
    "models = ['KNN.pkl', 'SVC.pkl', 'Random Forest.pkl','1D_CNN.pkl']\n",
    "\n",
    "# Location for saving the model (including model name and extension)\n",
    "save_path = [f'/Users/91954/ my project/{model}' for model in models] \n",
    "\n",
    "for model, path in zip([knn, svc, rfc_model, cnn_model], save_path):\n",
    "    with open(path, \"wb\") as f:# Open the file in binary write mode ('wb') for writing the pickled model\n",
    "      pickle.dump(model, f)\n",
    "\n",
    "print('Models saved successfully')"
   ]
  },
  {
   "cell_type": "markdown",
   "id": "47faf233-044a-4760-93a9-2c663aba2b72",
   "metadata": {},
   "source": [
    "#Save scalar statistics"
   ]
  },
  {
   "cell_type": "code",
   "execution_count": 73,
   "id": "6b29929a-3478-41e5-875e-0854d60dd52a",
   "metadata": {},
   "outputs": [],
   "source": [
    "# save the precalculated scaling statistics mean and standard deviation for cnn model \n",
    "np.save('mean_cnn.npy', mean_cnn)\n",
    "np.save('std_cnn.npy', std_cnn)\n",
    "\n",
    "# save the precalculated scaling statistics mean and standard deviation for machine-learning model \n",
    "np.save('mean.npy', mean)\n",
    "np.save('std.npy', std)"
   ]
  },
  {
   "cell_type": "code",
   "execution_count": null,
   "id": "9be66dd6-c1f5-4036-a5e9-acc39a37c05a",
   "metadata": {},
   "outputs": [],
   "source": []
  }
 ],
 "metadata": {
  "kernelspec": {
   "display_name": "Python 3 (ipykernel)",
   "language": "python",
   "name": "python3"
  },
  "language_info": {
   "codemirror_mode": {
    "name": "ipython",
    "version": 3
   },
   "file_extension": ".py",
   "mimetype": "text/x-python",
   "name": "python",
   "nbconvert_exporter": "python",
   "pygments_lexer": "ipython3",
   "version": "3.11.7"
  }
 },
 "nbformat": 4,
 "nbformat_minor": 5
}
